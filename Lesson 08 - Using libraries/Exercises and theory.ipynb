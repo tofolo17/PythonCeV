{
 "cells": [
  {
   "cell_type": "markdown",
   "metadata": {
    "collapsed": true,
    "pycharm": {
     "name": "#%% md\n"
    }
   },
   "source": [
    "## Exercises\n",
    "### 16. Floor"
   ]
  },
  {
   "cell_type": "code",
   "execution_count": null,
   "outputs": [],
   "source": [
    "from math import floor\n",
    "\n",
    "float_input = float(input('Enter a float number: '))\n",
    "\n",
    "print(floor(float_input))"
   ],
   "metadata": {
    "collapsed": false,
    "pycharm": {
     "name": "#%%\n"
    }
   }
  },
  {
   "cell_type": "markdown",
   "source": [
    "### 17. Pythagoras theorem"
   ],
   "metadata": {
    "collapsed": false,
    "pycharm": {
     "name": "#%% md\n"
    }
   }
  },
  {
   "cell_type": "code",
   "execution_count": null,
   "outputs": [],
   "source": [
    "from math import hypot\n",
    "\n",
    "fst_side = float(input('First side: '))\n",
    "snd_side = float(input('Second side: '))\n",
    "\n",
    "hypotenuse = hypot(fst_side, snd_side)\n",
    "\n",
    "print(f'{hypotenuse:.2f}')"
   ],
   "metadata": {
    "collapsed": false,
    "pycharm": {
     "name": "#%%\n"
    }
   }
  },
  {
   "cell_type": "markdown",
   "source": [
    "### 18. Sin and Cos"
   ],
   "metadata": {
    "collapsed": false,
    "pycharm": {
     "name": "#%% md\n"
    }
   }
  },
  {
   "cell_type": "code",
   "execution_count": null,
   "outputs": [],
   "source": [
    "from math import sin, cos, radians\n",
    "\n",
    "in_degrees = float(input('Enter an angle (degrees): '))\n",
    "in_radians = radians(in_degrees)\n",
    "\n",
    "print('{:.3f}\\n{:.3f}'.format(sin(in_radians), cos(in_radians)))"
   ],
   "metadata": {
    "collapsed": false,
    "pycharm": {
     "name": "#%%\n"
    }
   }
  },
  {
   "cell_type": "markdown",
   "source": [
    "### 19. Random choice"
   ],
   "metadata": {
    "collapsed": false,
    "pycharm": {
     "name": "#%% md\n"
    }
   }
  },
  {
   "cell_type": "code",
   "execution_count": null,
   "outputs": [],
   "source": [
    "from random import choice\n",
    "\n",
    "students = []\n",
    "for i in range(4):\n",
    "    students.append(input(\"Enter the student's name: \"))\n",
    "\n",
    "print(choice(students))"
   ],
   "metadata": {
    "collapsed": false,
    "pycharm": {
     "name": "#%%\n"
    }
   }
  },
  {
   "cell_type": "markdown",
   "source": [
    "### 20. Randomize list"
   ],
   "metadata": {
    "collapsed": false,
    "pycharm": {
     "name": "#%% md\n"
    }
   }
  },
  {
   "cell_type": "code",
   "execution_count": null,
   "outputs": [],
   "source": [
    "from random import shuffle\n",
    "\n",
    "students = []\n",
    "for i in range(4):\n",
    "    students.append(input(\"Enter the student's name: \"))\n",
    "shuffle(students)\n",
    "\n",
    "print(students)"
   ],
   "metadata": {
    "collapsed": false,
    "pycharm": {
     "name": "#%%\n"
    }
   }
  },
  {
   "cell_type": "markdown",
   "source": [
    "### 21. MP3 Player"
   ],
   "metadata": {
    "collapsed": false,
    "pycharm": {
     "name": "#%% md\n"
    }
   }
  },
  {
   "cell_type": "code",
   "execution_count": null,
   "outputs": [],
   "source": [
    "from pygame import mixer\n",
    "\n",
    "mixer.init()\n",
    "mixer.music.load('your_mp3.mp3')\n",
    "mixer.music.play()"
   ],
   "metadata": {
    "collapsed": false,
    "pycharm": {
     "name": "#%%\n"
    }
   }
  },
  {
   "cell_type": "markdown",
   "source": [
    "## Theory"
   ],
   "metadata": {
    "collapsed": false,
    "pycharm": {
     "name": "#%% md\n"
    }
   }
  },
  {
   "cell_type": "code",
   "execution_count": null,
   "outputs": [],
   "source": [
    "# import math\n",
    "# import everything (ceil, floor, trunc, pow, sqrt, factorial, ...)\n",
    "\n",
    "# from math import ceil\n",
    "# just import ceil\n",
    "\n",
    "# https://docs.python.org/3/library/index.html other libraries\n",
    "\n",
    "# https://pypi.org/"
   ],
   "metadata": {
    "collapsed": false,
    "pycharm": {
     "name": "#%%\n"
    }
   }
  }
 ],
 "metadata": {
  "kernelspec": {
   "display_name": "Python 3",
   "language": "python",
   "name": "python3"
  },
  "language_info": {
   "codemirror_mode": {
    "name": "ipython",
    "version": 2
   },
   "file_extension": ".py",
   "mimetype": "text/x-python",
   "name": "python",
   "nbconvert_exporter": "python",
   "pygments_lexer": "ipython2",
   "version": "2.7.6"
  }
 },
 "nbformat": 4,
 "nbformat_minor": 0
}