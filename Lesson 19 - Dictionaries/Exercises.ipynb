{
 "cells": [
  {
   "cell_type": "markdown",
   "metadata": {
    "collapsed": true,
    "pycharm": {
     "name": "#%% md\n"
    }
   },
   "source": [
    "### 90. School average"
   ]
  },
  {
   "cell_type": "code",
   "execution_count": null,
   "outputs": [],
   "source": [
    "student = {'Name': input('Name: ').strip().title(), 'School average': float(input('School average: '))}\n",
    "if student['School average'] >= 7:\n",
    "    student['Situation'] = 'Approved'\n",
    "elif student['School average'] < 5:\n",
    "    student['Situation'] = 'Reproved'\n",
    "else:\n",
    "    student['Situation'] = 'Summer School'\n",
    "\n",
    "for k, v in student.items():\n",
    "    print(f'{k}: {v}')"
   ],
   "metadata": {
    "collapsed": false,
    "pycharm": {
     "name": "#%%\n"
    }
   }
  },
  {
   "cell_type": "markdown",
   "source": [
    "### 91. Playing dice"
   ],
   "metadata": {
    "collapsed": false,
    "pycharm": {
     "name": "#%% md\n"
    }
   }
  },
  {
   "cell_type": "code",
   "execution_count": null,
   "outputs": [],
   "source": [
    "from random import randint\n",
    "\n",
    "amount = int(input('Amount of players: '))\n",
    "\n",
    "pos = list()\n",
    "players = dict()\n",
    "for c in range(amount):\n",
    "    players[f'Player {c + 1}'] = randint(1, 6)\n",
    "\n",
    "cont = 0\n",
    "for item in sorted(players, key=players.get, reverse=True):\n",
    "    if players[item] not in pos or item == 0:\n",
    "        pos.append(players[item])\n",
    "        cont += 1\n",
    "    print(f'{cont}° place: {item} with {players[item]}')"
   ],
   "metadata": {
    "collapsed": false,
    "pycharm": {
     "name": "#%%\n"
    }
   }
  },
  {
   "cell_type": "markdown",
   "source": [
    "### 93. Football player registration"
   ],
   "metadata": {
    "collapsed": false,
    "pycharm": {
     "name": "#%% md\n"
    }
   }
  },
  {
   "cell_type": "code",
   "execution_count": null,
   "outputs": [],
   "source": [
    "data = dict()\n",
    "goals_list = list()\n",
    "\n",
    "data[\"Name\"] = input(\"Player's name: \")\n",
    "amount = int(input(f'Matches: '))\n",
    "for i in range(amount):\n",
    "    goals = int(input(f'How many goals in the {i + 1}° match? '))\n",
    "    goals_list.append(goals)\n",
    "data['Goals'] = goals_list\n",
    "\n",
    "for k, v in data.items():\n",
    "    print(f'{k}: {v}')\n",
    "\n",
    "print(f\"{data['Name']} have played {amount} matches.\")\n",
    "for i in range(len(goals_list)):\n",
    "    print(f'In the {i + 1}° match, he made {goals_list[i]} goals.')\n",
    "print(f'Total: {sum(goals_list)}')\n"
   ],
   "metadata": {
    "collapsed": false,
    "pycharm": {
     "name": "#%%\n"
    }
   }
  }
 ],
 "metadata": {
  "kernelspec": {
   "display_name": "Python 3",
   "language": "python",
   "name": "python3"
  },
  "language_info": {
   "codemirror_mode": {
    "name": "ipython",
    "version": 2
   },
   "file_extension": ".py",
   "mimetype": "text/x-python",
   "name": "python",
   "nbconvert_exporter": "python",
   "pygments_lexer": "ipython2",
   "version": "2.7.6"
  }
 },
 "nbformat": 4,
 "nbformat_minor": 0
}