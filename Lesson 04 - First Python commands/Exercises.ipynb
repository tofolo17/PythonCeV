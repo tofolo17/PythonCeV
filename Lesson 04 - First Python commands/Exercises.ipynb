{
 "cells": [
  {
   "cell_type": "markdown",
   "source": [
    "### 01. Welcome message"
   ],
   "metadata": {
    "collapsed": false
   }
  },
  {
   "cell_type": "code",
   "execution_count": null,
   "outputs": [],
   "source": [
    "user_name = input(\"What's your name? \")\n",
    "print(\"Welcome, {}!\".format(user_name))"
   ],
   "metadata": {
    "collapsed": false,
    "pycharm": {
     "name": "#%%\n"
    }
   }
  },
  {
   "cell_type": "markdown",
   "source": [
    "### 02. Birthdate"
   ],
   "metadata": {
    "collapsed": false,
    "pycharm": {
     "name": "#%% md\n"
    }
   }
  },
  {
   "cell_type": "code",
   "execution_count": null,
   "outputs": [],
   "source": [
    "month = input(\"Month: \")\n",
    "day = input(\"Day: \")\n",
    "year = input(\"Year: \")\n",
    "\n",
    "print(\"On {} {}, {}, you were born. Correct?\".format(month, day, year))"
   ],
   "metadata": {
    "collapsed": false,
    "pycharm": {
     "name": "#%%\n"
    }
   }
  },
  {
   "cell_type": "markdown",
   "source": [
    "### 03. Sum"
   ],
   "metadata": {
    "collapsed": false,
    "pycharm": {
     "name": "#%% md\n"
    }
   }
  },
  {
   "cell_type": "code",
   "execution_count": null,
   "outputs": [],
   "source": [
    "int_1 = int(input(\"Enter an integer: \"))\n",
    "int_2 = int(input(\"Enter another integer: \"))\n",
    "\n",
    "s = int_1 + int_2\n",
    "\n",
    "print('The sum between {} and {} is equal to {}.'.format(int_1, int_2, s))"
   ],
   "metadata": {
    "collapsed": false,
    "pycharm": {
     "name": "#%%\n"
    }
   }
  }
 ],
 "metadata": {
  "kernelspec": {
   "display_name": "Python 3",
   "language": "python",
   "name": "python3"
  },
  "language_info": {
   "codemirror_mode": {
    "name": "ipython",
    "version": 2
   },
   "file_extension": ".py",
   "mimetype": "text/x-python",
   "name": "python",
   "nbconvert_exporter": "python",
   "pygments_lexer": "ipython2",
   "version": "2.7.6"
  }
 },
 "nbformat": 4,
 "nbformat_minor": 0
}