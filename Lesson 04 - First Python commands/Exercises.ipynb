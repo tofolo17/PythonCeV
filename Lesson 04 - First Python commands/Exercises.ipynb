{
 "cells": [
  {
   "cell_type": "markdown",
   "source": [
    "### 01. Welcome Message"
   ],
   "metadata": {
    "collapsed": false
   }
  },
  {
   "cell_type": "code",
   "execution_count": null,
   "outputs": [],
   "source": [
    "username = input(\"What's your name? \")\n",
    "print(\"Welcome, {}!\".format(username))"
   ],
   "metadata": {
    "collapsed": false,
    "pycharm": {
     "name": "#%%\n"
    }
   }
  },
  {
   "cell_type": "markdown",
   "source": [
    "### 02. Birth Date"
   ],
   "metadata": {
    "collapsed": false,
    "pycharm": {
     "name": "#%% md\n"
    }
   }
  },
  {
   "cell_type": "code",
   "execution_count": null,
   "outputs": [],
   "source": [
    "month = input(\"Month: \")\n",
    "day = input(\"Day: \")\n",
    "year = input(\"Year: \")\n",
    "\n",
    "print(\"On {} {}, {}, you were born. Correct?\".format(month, day, year))"
   ],
   "metadata": {
    "collapsed": false,
    "pycharm": {
     "name": "#%%\n"
    }
   }
  },
  {
   "cell_type": "markdown",
   "source": [
    "### 03. Sum"
   ],
   "metadata": {
    "collapsed": false,
    "pycharm": {
     "name": "#%% md\n"
    }
   }
  },
  {
   "cell_type": "code",
   "execution_count": null,
   "outputs": [],
   "source": [
    "n1 = int(input(\"1°: \"))\n",
    "n2 = int(input(\"2°: \"))\n",
    "\n",
    "s = n1 + n2\n",
    "\n",
    "print('The sum between {} and {} is equal to {}.'.format(n1, n2, s))"
   ],
   "metadata": {
    "collapsed": false,
    "pycharm": {
     "name": "#%%\n"
    }
   }
  }
 ],
 "metadata": {
  "kernelspec": {
   "display_name": "Python 3",
   "language": "python",
   "name": "python3"
  },
  "language_info": {
   "codemirror_mode": {
    "name": "ipython",
    "version": 2
   },
   "file_extension": ".py",
   "mimetype": "text/x-python",
   "name": "python",
   "nbconvert_exporter": "python",
   "pygments_lexer": "ipython2",
   "version": "2.7.6"
  }
 },
 "nbformat": 4,
 "nbformat_minor": 0
}