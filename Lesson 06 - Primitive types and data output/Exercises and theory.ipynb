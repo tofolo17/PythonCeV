{
 "cells": [
  {
   "cell_type": "markdown",
   "metadata": {
    "collapsed": true,
    "pycharm": {
     "name": "#%% md\n"
    }
   },
   "source": [
    "## Exercises\n",
    "### 04. Validation challenge"
   ]
  },
  {
   "cell_type": "code",
   "execution_count": null,
   "outputs": [],
   "source": [
    "user_input = input(\"Type something: \")\n",
    "\n",
    "try:\n",
    "    input_type = int(user_input)\n",
    "    print(type(input_type))\n",
    "except ValueError:\n",
    "    try:\n",
    "        input_type = float(user_input)\n",
    "        print(type(input_type))\n",
    "    except ValueError:\n",
    "        print(type(user_input))"
   ],
   "metadata": {
    "collapsed": false,
    "pycharm": {
     "name": "#%%\n"
    }
   }
  },
  {
   "cell_type": "markdown",
   "source": [
    "## Theory\n",
    "### “Primitive” types\n"
   ],
   "metadata": {
    "collapsed": false
   }
  },
  {
   "cell_type": "code",
   "execution_count": null,
   "outputs": [],
   "source": [
    "int_input = int(input(\"Enter an integer: \"))\n",
    "float_input = float(input(\"Enter a float number: \"))\n",
    "\n",
    "print(\"Is the first number higher than the second?\")\n",
    "\n",
    "if bool(int_input > float_input):\n",
    "    msg = str(\"Yes, it is!\")\n",
    "else:\n",
    "    msg = str(\"No, it isn't.\")\n",
    "\n",
    "print(msg)"
   ],
   "metadata": {
    "collapsed": false,
    "pycharm": {
     "name": "#%%\n"
    }
   }
  },
  {
   "cell_type": "markdown",
   "source": [
    "### Printing"
   ],
   "metadata": {
    "collapsed": false
   }
  },
  {
   "cell_type": "code",
   "execution_count": null,
   "outputs": [],
   "source": [
    "int_input = int(input(\"Enter an integer: \"))\n",
    "\n",
    "print(\"Your answer:\", int_input)\n",
    "print(\"Your answer: {}\".format(int_input))\n",
    "print(f\"Your answer: {int_input}\")\n",
    "\n",
    "print(type(int_input))"
   ],
   "metadata": {
    "collapsed": false,
    "pycharm": {
     "name": "#%%\n"
    }
   }
  },
  {
   "cell_type": "markdown",
   "source": [
    "### Some methods"
   ],
   "metadata": {
    "collapsed": false,
    "pycharm": {
     "name": "#%% md\n"
    }
   }
  },
  {
   "cell_type": "code",
   "execution_count": null,
   "outputs": [],
   "source": [
    "user_input = input('Type something: ')\n",
    "\n",
    "print(user_input.isnumeric())\n",
    "print(user_input.isalpha())\n",
    "print(user_input.isalnum())"
   ],
   "metadata": {
    "collapsed": false,
    "pycharm": {
     "name": "#%%\n"
    }
   }
  }
 ],
 "metadata": {
  "kernelspec": {
   "display_name": "Python 3",
   "language": "python",
   "name": "python3"
  },
  "language_info": {
   "codemirror_mode": {
    "name": "ipython",
    "version": 2
   },
   "file_extension": ".py",
   "mimetype": "text/x-python",
   "name": "python",
   "nbconvert_exporter": "python",
   "pygments_lexer": "ipython2",
   "version": "2.7.6"
  }
 },
 "nbformat": 4,
 "nbformat_minor": 0
}