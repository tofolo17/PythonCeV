{
 "cells": [
  {
   "cell_type": "markdown",
   "metadata": {
    "collapsed": true,
    "pycharm": {
     "name": "#%% md\n"
    }
   },
   "source": [
    "## Exercises\n",
    "### 04. Loop challenge"
   ]
  },
  {
   "cell_type": "code",
   "execution_count": null,
   "outputs": [],
   "source": [
    "user_input = input(\"Type something: \")\n",
    "\n",
    "try:\n",
    "    value = int(user_input)\n",
    "    print(type(value))\n",
    "except ValueError:\n",
    "    try:\n",
    "        value = float(user_input)\n",
    "        print(type(value))\n",
    "    except ValueError:\n",
    "        print(type(user_input))"
   ],
   "metadata": {
    "collapsed": false,
    "pycharm": {
     "name": "#%%\n"
    }
   }
  },
  {
   "cell_type": "markdown",
   "source": [
    "## Theory\n",
    "### Primitive types\n"
   ],
   "metadata": {
    "collapsed": false
   }
  },
  {
   "cell_type": "code",
   "execution_count": null,
   "outputs": [],
   "source": [
    "n1 = int(input(\"Int number: \"))\n",
    "n2 = float(input(\"Float number: \"))\n",
    "\n",
    "print(\"Is the first number higher than the second?\")\n",
    "\n",
    "if bool(n1 > n2):\n",
    "    msg = str(\"Yes, it is!\")\n",
    "else:\n",
    "    msg = str(\"No, it isn't.\")\n",
    "print(msg)"
   ],
   "metadata": {
    "collapsed": false,
    "pycharm": {
     "name": "#%%\n"
    }
   }
  },
  {
   "cell_type": "markdown",
   "source": [
    "### Printing"
   ],
   "metadata": {
    "collapsed": false
   }
  },
  {
   "cell_type": "code",
   "execution_count": null,
   "outputs": [],
   "source": [
    "s = int(input(\"Enter an integer: \"))\n",
    "\n",
    "print(\"You typed\", s)\n",
    "print('You typed {}'.format(s))\n",
    "print(f'You typed {s}')\n",
    "\n",
    "print(type(s))"
   ],
   "metadata": {
    "collapsed": false,
    "pycharm": {
     "name": "#%%\n"
    }
   }
  },
  {
   "cell_type": "markdown",
   "source": [
    "### Some methods"
   ],
   "metadata": {
    "collapsed": false,
    "pycharm": {
     "name": "#%% md\n"
    }
   }
  },
  {
   "cell_type": "code",
   "execution_count": null,
   "outputs": [],
   "source": [
    "n = input('Type something: ')\n",
    "\n",
    "print(n.isnumeric())\n",
    "print(n.isalpha())\n",
    "print(n.isalnum())"
   ],
   "metadata": {
    "collapsed": false,
    "pycharm": {
     "name": "#%%\n"
    }
   }
  }
 ],
 "metadata": {
  "kernelspec": {
   "display_name": "Python 3",
   "language": "python",
   "name": "python3"
  },
  "language_info": {
   "codemirror_mode": {
    "name": "ipython",
    "version": 2
   },
   "file_extension": ".py",
   "mimetype": "text/x-python",
   "name": "python",
   "nbconvert_exporter": "python",
   "pygments_lexer": "ipython2",
   "version": "2.7.6"
  }
 },
 "nbformat": 4,
 "nbformat_minor": 0
}