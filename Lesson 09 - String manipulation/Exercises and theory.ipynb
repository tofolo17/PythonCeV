{
 "cells": [
  {
   "cell_type": "markdown",
   "source": [
    "## Exercises\n",
    "### 22. Text analyzer"
   ],
   "metadata": {
    "collapsed": false,
    "pycharm": {
     "name": "#%% md\n"
    }
   }
  },
  {
   "cell_type": "code",
   "execution_count": null,
   "outputs": [],
   "source": [
    "name = input('Enter your name: ').strip()\n",
    "\n",
    "print(name.upper())\n",
    "print(name.lower())\n",
    "\n",
    "space = name.count(' ')\n",
    "print(len(name) - space)\n",
    "\n",
    "first = name.split()\n",
    "print(len(first[0]))"
   ],
   "metadata": {
    "collapsed": false,
    "pycharm": {
     "name": "#%%\n"
    }
   }
  },
  {
   "cell_type": "markdown",
   "source": [
    "### 23. Numerical order"
   ],
   "metadata": {
    "collapsed": false,
    "pycharm": {
     "name": "#%% md\n"
    }
   }
  },
  {
   "cell_type": "code",
   "execution_count": null,
   "outputs": [],
   "source": [
    "n = int(input('0 to 9999: '))\n",
    "\n",
    "n_str = str(n)\n",
    "pos = []\n",
    "\n",
    "i = 0\n",
    "while i < len(n_str):\n",
    "    pos.append(n_str[i])\n",
    "    i += 1\n",
    "\n",
    "if n < 10:\n",
    "    print('Unit: ', pos[0])\n",
    "elif (n > 9) and (n < 100):\n",
    "    print('Ten: {}\\nUnit: {}'.format(pos[0], pos[1]))\n",
    "elif (n > 99) and (n < 1000):\n",
    "    print('Hundred: {}\\nTen: {}\\nUnit: {}'.format(pos[0], pos[1], pos[2]))\n",
    "else:\n",
    "    print('Thousand: {}\\nHundred: {}\\nTen: {}\\nUnit: {}'.format(pos[0], pos[1], pos[2], pos[3]))"
   ],
   "metadata": {
    "collapsed": false,
    "pycharm": {
     "name": "#%%\n"
    }
   }
  },
  {
   "cell_type": "markdown",
   "source": [
    "### 24. \"Sant\""
   ],
   "metadata": {
    "collapsed": false,
    "pycharm": {
     "name": "#%% md\n"
    }
   }
  },
  {
   "cell_type": "code",
   "execution_count": null,
   "outputs": [],
   "source": [
    "city = input('In which city do you live? ').strip()\n",
    "spl_city = city.split()\n",
    "print('SANT' in spl_city[0].upper())"
   ],
   "metadata": {
    "collapsed": false,
    "pycharm": {
     "name": "#%%\n"
    }
   }
  },
  {
   "cell_type": "markdown",
   "source": [
    "### 25. \"Silva\""
   ],
   "metadata": {
    "collapsed": false,
    "pycharm": {
     "name": "#%% md\n"
    }
   }
  },
  {
   "cell_type": "code",
   "execution_count": null,
   "outputs": [],
   "source": [
    "name = input(\"What's your name? \")\n",
    "print('SILVA' in name.upper())"
   ],
   "metadata": {
    "collapsed": false,
    "pycharm": {
     "name": "#%%\n"
    }
   }
  },
  {
   "cell_type": "markdown",
   "source": [
    "### 26. \"A\" check"
   ],
   "metadata": {
    "collapsed": false,
    "pycharm": {
     "name": "#%% md\n"
    }
   }
  },
  {
   "cell_type": "code",
   "execution_count": null,
   "outputs": [],
   "source": [
    "phrase = input('Enter a phrase: ').upper().strip()\n",
    "print(f'\"A\" counter: {phrase.count(\"A\")}\\nFirst \"A\" index: {phrase.find(\"A\")}\\nLast \"A\" index: {phrase.rfind(\"A\")}')"
   ],
   "metadata": {
    "collapsed": false,
    "pycharm": {
     "name": "#%%\n"
    }
   }
  },
  {
   "cell_type": "markdown",
   "source": [
    "### 27. Name splitter"
   ],
   "metadata": {
    "collapsed": false,
    "pycharm": {
     "name": "#%% md\n"
    }
   }
  },
  {
   "cell_type": "code",
   "execution_count": null,
   "outputs": [],
   "source": [
    "name = input('Enter your name: ').strip()\n",
    "\n",
    "spl_name = name.split()\n",
    "print(spl_name[0])\n",
    "qtd = int(len(spl_name))\n",
    "print(spl_name[qtd - 1])"
   ],
   "metadata": {
    "collapsed": false,
    "pycharm": {
     "name": "#%%\n"
    }
   }
  },
  {
   "cell_type": "markdown",
   "source": [
    "## Theory\n",
    "### Analysis, transformation, division and join"
   ],
   "metadata": {
    "collapsed": false,
    "pycharm": {
     "name": "#%% md\n"
    }
   }
  },
  {
   "cell_type": "code",
   "execution_count": null,
   "outputs": [],
   "source": [
    "# Analysis\n",
    "phrase = 'Ramiro for president!'\n",
    "print(len(phrase))\n",
    "print(phrase.count('o'))\n",
    "print(phrase.find('iro'))\n",
    "print('Ramiro' in phrase)\n",
    "\n",
    "# Transformation\n",
    "phrase1 = phrase.replace('Ramiro', 'Ramalho')\n",
    "print(phrase1)\n",
    "print(phrase.upper())\n",
    "print((phrase.upper()).lower())\n",
    "print(phrase.capitalize())\n",
    "print(phrase.title())\n",
    "print(phrase.strip())  # frase.rstrip(), frase.lstrip()\n",
    "\n",
    "# Division\n",
    "divided = phrase.split()\n",
    "print(divided)\n",
    "print(divided[2])\n",
    "print(divided[2][1])\n",
    "\n",
    "# Join\n",
    "print('-'.join(phrase.split()))"
   ],
   "metadata": {
    "collapsed": false,
    "pycharm": {
     "name": "#%%\n"
    }
   }
  },
  {
   "cell_type": "markdown",
   "source": [
    "### Vertical writing"
   ],
   "metadata": {
    "collapsed": false,
    "pycharm": {
     "name": "#%% md\n"
    }
   }
  },
  {
   "cell_type": "code",
   "execution_count": null,
   "outputs": [],
   "source": [
    "phrase = input('Enter something: ')\n",
    "\n",
    "i = 0\n",
    "while i < len(phrase):\n",
    "    print(phrase[i])\n",
    "    i = i + 1"
   ],
   "metadata": {
    "collapsed": false,
    "pycharm": {
     "name": "#%%\n"
    }
   }
  },
  {
   "cell_type": "markdown",
   "source": [
    "### Slicing"
   ],
   "metadata": {
    "collapsed": false,
    "pycharm": {
     "name": "#%% md\n"
    }
   }
  },
  {
   "cell_type": "code",
   "execution_count": null,
   "outputs": [],
   "source": [
    "phrase = 'Curso em vídeo Python'\n",
    "\n",
    "print(phrase[3])\n",
    "print(phrase[9:13])\n",
    "print(phrase[9:21:2])\n",
    "print(phrase[:5])\n",
    "print(phrase[15:])\n",
    "print(phrase[9::3])"
   ],
   "metadata": {
    "collapsed": false,
    "pycharm": {
     "name": "#%%\n"
    }
   }
  }
 ],
 "metadata": {
  "kernelspec": {
   "display_name": "Python 3",
   "language": "python",
   "name": "python3"
  },
  "language_info": {
   "codemirror_mode": {
    "name": "ipython",
    "version": 2
   },
   "file_extension": ".py",
   "mimetype": "text/x-python",
   "name": "python",
   "nbconvert_exporter": "python",
   "pygments_lexer": "ipython2",
   "version": "2.7.6"
  }
 },
 "nbformat": 4,
 "nbformat_minor": 0
}