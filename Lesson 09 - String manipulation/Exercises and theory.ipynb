{
 "cells": [
  {
   "cell_type": "markdown",
   "source": [
    "## Exercises\n",
    "### 22. Text analyzer"
   ],
   "metadata": {
    "collapsed": false,
    "pycharm": {
     "name": "#%% md\n"
    }
   }
  },
  {
   "cell_type": "code",
   "execution_count": null,
   "outputs": [],
   "source": [
    "user_name = input('Enter your full name: ').strip()\n",
    "\n",
    "print(user_name.upper())\n",
    "print(user_name.lower())\n",
    "\n",
    "space_count = user_name.count(' ')\n",
    "print(len(user_name) - space_count)\n",
    "\n",
    "name_list = user_name.split()\n",
    "print(len(name_list[0]))"
   ],
   "metadata": {
    "collapsed": false,
    "pycharm": {
     "name": "#%%\n"
    }
   }
  },
  {
   "cell_type": "markdown",
   "source": [
    "### 23. Numerical order"
   ],
   "metadata": {
    "collapsed": false,
    "pycharm": {
     "name": "#%% md\n"
    }
   }
  },
  {
   "cell_type": "code",
   "execution_count": null,
   "outputs": [],
   "source": [
    "int_input = int(input('Enter an integer that is between 0 and 9999: '))\n",
    "\n",
    "numerical_order = [\"Units\", \"Tens\", \"Hundreds\", \"Thousands\"]\n",
    "digits = list(map(int, str(int_input)))\n",
    "digits.reverse()\n",
    "\n",
    "for i in range(len(digits)):\n",
    "    print(f'{numerical_order[i]}: {digits[i]}')\n"
   ],
   "metadata": {
    "collapsed": false,
    "pycharm": {
     "name": "#%%\n"
    }
   }
  },
  {
   "cell_type": "markdown",
   "source": [
    "### 24. \"Saint\""
   ],
   "metadata": {
    "collapsed": false,
    "pycharm": {
     "name": "#%% md\n"
    }
   }
  },
  {
   "cell_type": "code",
   "execution_count": null,
   "outputs": [],
   "source": [
    "city_input = input('In which city do you live? ').strip()\n",
    "split_city = city_input.split()\n",
    "\n",
    "print('SAINT' in split_city[0].upper())"
   ],
   "metadata": {
    "collapsed": false,
    "pycharm": {
     "name": "#%%\n"
    }
   }
  },
  {
   "cell_type": "markdown",
   "source": [
    "### 25. \"Silva\""
   ],
   "metadata": {
    "collapsed": false,
    "pycharm": {
     "name": "#%% md\n"
    }
   }
  },
  {
   "cell_type": "code",
   "execution_count": null,
   "outputs": [],
   "source": [
    "user_name = input(\"What's your name? \")\n",
    "\n",
    "print('SILVA' in user_name.upper())"
   ],
   "metadata": {
    "collapsed": false,
    "pycharm": {
     "name": "#%%\n"
    }
   }
  },
  {
   "cell_type": "markdown",
   "source": [
    "### 26. \"A\" check"
   ],
   "metadata": {
    "collapsed": false,
    "pycharm": {
     "name": "#%% md\n"
    }
   }
  },
  {
   "cell_type": "code",
   "execution_count": null,
   "outputs": [],
   "source": [
    "phrase_input = input('Enter a phrase: ').upper().strip()\n",
    "\n",
    "print(\n",
    "    f'\"A\" counter: {phrase_input.count(\"A\")}\\n'\n",
    "    f'First \"A\" index: {phrase_input.find(\"A\")}\\n'\n",
    "    f'Last \"A\" index: {phrase_input.rfind(\"A\")}'\n",
    ")"
   ],
   "metadata": {
    "collapsed": false,
    "pycharm": {
     "name": "#%%\n"
    }
   }
  },
  {
   "cell_type": "markdown",
   "source": [
    "### 27. Given Name splitter"
   ],
   "metadata": {
    "collapsed": false,
    "pycharm": {
     "name": "#%% md\n"
    }
   }
  },
  {
   "cell_type": "code",
   "execution_count": null,
   "outputs": [],
   "source": [
    "user_name = input('Enter your full name: ').strip()\n",
    "split_name = user_name.split()\n",
    "\n",
    "print(split_name[0])\n",
    "print(split_name[-1])"
   ],
   "metadata": {
    "collapsed": false,
    "pycharm": {
     "name": "#%%\n"
    }
   }
  },
  {
   "cell_type": "markdown",
   "source": [
    "## Theory\n",
    "### Analysis, transformation, division and join"
   ],
   "metadata": {
    "collapsed": false,
    "pycharm": {
     "name": "#%% md\n"
    }
   }
  },
  {
   "cell_type": "code",
   "execution_count": null,
   "outputs": [],
   "source": [
    "# Analysis\n",
    "phrase = 'Ramiro for president!'\n",
    "print(len(phrase))\n",
    "print(phrase.count('o'))\n",
    "print(phrase.find('iro'))\n",
    "print('Ramiro' in phrase)\n",
    "\n",
    "# Transformation\n",
    "phrase1 = phrase.replace('Ramiro', 'Ramalho')\n",
    "print(phrase1)\n",
    "print(phrase.upper())\n",
    "print((phrase.upper()).lower())\n",
    "print(phrase.capitalize())\n",
    "print(phrase.title())\n",
    "print(phrase.strip())  # phrase.rstrip(), phrase.lstrip()\n",
    "\n",
    "# Division\n",
    "divided = phrase.split()\n",
    "print(divided)\n",
    "print(divided[2])\n",
    "print(divided[2][1])\n",
    "\n",
    "# Join\n",
    "print('-'.join(phrase.split()))"
   ],
   "metadata": {
    "collapsed": false,
    "pycharm": {
     "name": "#%%\n"
    }
   }
  },
  {
   "cell_type": "markdown",
   "source": [
    "### Vertical writing"
   ],
   "metadata": {
    "collapsed": false,
    "pycharm": {
     "name": "#%% md\n"
    }
   }
  },
  {
   "cell_type": "code",
   "execution_count": 1,
   "outputs": [
    {
     "name": "stdout",
     "output_type": "stream",
     "text": [
      "g\n",
      "u\n",
      "g\n",
      "a\n"
     ]
    }
   ],
   "source": [
    "phrase = input('Type something: ')\n",
    "\n",
    "for i in range(len(phrase)):\n",
    "    print(phrase[i])"
   ],
   "metadata": {
    "collapsed": false,
    "pycharm": {
     "name": "#%%\n"
    }
   }
  },
  {
   "cell_type": "markdown",
   "source": [
    "### Slicing"
   ],
   "metadata": {
    "collapsed": false,
    "pycharm": {
     "name": "#%% md\n"
    }
   }
  },
  {
   "cell_type": "code",
   "execution_count": null,
   "outputs": [],
   "source": [
    "phrase = 'Curso em vídeo Python'\n",
    "\n",
    "print(phrase[3])\n",
    "print(phrase[9:13])\n",
    "print(phrase[9:21:2])\n",
    "print(phrase[:5])\n",
    "print(phrase[15:])\n",
    "print(phrase[9::3])"
   ],
   "metadata": {
    "collapsed": false,
    "pycharm": {
     "name": "#%%\n"
    }
   }
  }
 ],
 "metadata": {
  "kernelspec": {
   "display_name": "Python 3",
   "language": "python",
   "name": "python3"
  },
  "language_info": {
   "codemirror_mode": {
    "name": "ipython",
    "version": 2
   },
   "file_extension": ".py",
   "mimetype": "text/x-python",
   "name": "python",
   "nbconvert_exporter": "python",
   "pygments_lexer": "ipython2",
   "version": "2.7.6"
  }
 },
 "nbformat": 4,
 "nbformat_minor": 0
}