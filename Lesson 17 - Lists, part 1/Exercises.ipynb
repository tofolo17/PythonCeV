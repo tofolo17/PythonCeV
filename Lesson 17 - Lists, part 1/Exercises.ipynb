{
 "cells": [
  {
   "cell_type": "markdown",
   "metadata": {
    "collapsed": true,
    "pycharm": {
     "name": "#%% md\n"
    }
   },
   "source": [
    "### 78. Max and min"
   ]
  },
  {
   "cell_type": "code",
   "execution_count": null,
   "outputs": [],
   "source": [
    "amount = int(input('How many integers would you like to enter? '))\n",
    "\n",
    "integers = []\n",
    "for integer in range(amount):\n",
    "    integers.append(int(input(f'{integer + 1}°: ')))\n",
    "\n",
    "print(f'Min: {min(integers)} || Positions: ', end=\"\")\n",
    "for pos, val in enumerate(integers):\n",
    "    if val == min(integers):\n",
    "        print(pos, end=\" \")\n",
    "\n",
    "print(f'\\nMax: {max(integers)} || Positions: ', end=\"\")\n",
    "for pos, val in enumerate(integers):\n",
    "    if val == max(integers):\n",
    "        print(pos, end=\" \")"
   ],
   "metadata": {
    "collapsed": false,
    "pycharm": {
     "name": "#%%\n"
    }
   }
  },
  {
   "cell_type": "markdown",
   "source": [
    "### 79. Appending unique values"
   ],
   "metadata": {
    "collapsed": false,
    "pycharm": {
     "name": "#%% md\n"
    }
   }
  },
  {
   "cell_type": "code",
   "execution_count": null,
   "outputs": [],
   "source": [
    "integers = []\n",
    "while True:\n",
    "    integer = int(input('Enter an integer: '))\n",
    "    if integer not in integers:\n",
    "        integers.append(integer)\n",
    "        option = (input('Add another? [Y/N] ')).upper()\n",
    "        if option != 'Y':\n",
    "            break\n",
    "    else:\n",
    "        print('This integer is already in the list. Try again.')\n",
    "print(f'Integers: {integers}.')"
   ],
   "metadata": {
    "collapsed": false,
    "pycharm": {
     "name": "#%%\n"
    }
   }
  },
  {
   "cell_type": "markdown",
   "source": [
    "### 80. Sorting unique values"
   ],
   "metadata": {
    "collapsed": false,
    "pycharm": {
     "name": "#%% md\n"
    }
   }
  },
  {
   "cell_type": "code",
   "execution_count": null,
   "outputs": [],
   "source": [
    "amount = int(input('How many integers would you like to enter? '))\n",
    "\n",
    "integers = []\n",
    "for i in range(amount):\n",
    "    integer = int(input(f'{i + 1}°: '))\n",
    "    if len(integers) == 0 or integer > integers[-1]:\n",
    "        integers.append(integer)\n",
    "    else:\n",
    "        pos = 0\n",
    "        while pos < len(integers):\n",
    "            if integer <= integers[pos]:\n",
    "                integers.insert(pos, integer)\n",
    "                break\n",
    "            pos += 1\n",
    "print(integers)"
   ],
   "metadata": {
    "collapsed": false,
    "pycharm": {
     "name": "#%%\n"
    }
   }
  },
  {
   "cell_type": "markdown",
   "source": [
    "### 81. Getting data from a list"
   ],
   "metadata": {
    "collapsed": false,
    "pycharm": {
     "name": "#%% md\n"
    }
   }
  },
  {
   "cell_type": "code",
   "execution_count": null,
   "outputs": [],
   "source": [
    "integers = []\n",
    "while True:\n",
    "    integers.append(int(input('Enter an integer: ')))\n",
    "    option = input('Would you like to continue? [Y/N] ').upper()\n",
    "    if option == \"N\":\n",
    "        break\n",
    "\n",
    "integers.sort(reverse=True)\n",
    "print(f\"\\nYou've just entered {len(integers)} integers.\")\n",
    "print(f'In descending order: {integers}.')\n",
    "print('Yes, the number five is in the list.' if 5 in integers else 'No, the number five is not in the list.')"
   ],
   "metadata": {
    "collapsed": false,
    "pycharm": {
     "name": "#%%\n"
    }
   }
  },
  {
   "cell_type": "markdown",
   "source": [
    "### 82 Multiple lists"
   ],
   "metadata": {
    "collapsed": false,
    "pycharm": {
     "name": "#%% md\n"
    }
   }
  },
  {
   "cell_type": "code",
   "execution_count": null,
   "outputs": [],
   "source": [
    "integers = []\n",
    "while True:\n",
    "    integers.append(int(input('Enter an integer: ')))\n",
    "    option = input('Would you like to continue? [Y/N] ').upper()\n",
    "    if option != 'N':\n",
    "        break\n",
    "\n",
    "print(f'Complete list: {integers}')\n",
    "print(f'Pair list: {[integer for integer in integers if integer % 2 == 0]}')\n",
    "print(f'Odd list: {[integer for integer in integers if integer % 2 == 1]}')"
   ],
   "metadata": {
    "collapsed": false,
    "pycharm": {
     "name": "#%%\n"
    }
   }
  },
  {
   "cell_type": "markdown",
   "source": [
    "### 83. Validating numeric expressions"
   ],
   "metadata": {
    "collapsed": false,
    "pycharm": {
     "name": "#%% md\n"
    }
   }
  },
  {
   "cell_type": "code",
   "execution_count": null,
   "outputs": [],
   "source": [
    "expression = input('Enter a simple math expression: ')\n",
    "\n",
    "parentheses = []\n",
    "for pos in expression:\n",
    "    if pos == '(':\n",
    "        parentheses.append('(')\n",
    "    elif pos == ')':\n",
    "        if len(parentheses) > 0:\n",
    "            parentheses.pop()\n",
    "        else:\n",
    "            parentheses.append(')')\n",
    "            break\n",
    "\n",
    "print('Valid.') if len(parentheses) == 0 else print(\"Invalid.\")\n"
   ],
   "metadata": {
    "collapsed": false,
    "pycharm": {
     "name": "#%%\n"
    }
   }
  }
 ],
 "metadata": {
  "kernelspec": {
   "display_name": "Python 3",
   "language": "python",
   "name": "python3"
  },
  "language_info": {
   "codemirror_mode": {
    "name": "ipython",
    "version": 2
   },
   "file_extension": ".py",
   "mimetype": "text/x-python",
   "name": "python",
   "nbconvert_exporter": "python",
   "pygments_lexer": "ipython2",
   "version": "2.7.6"
  }
 },
 "nbformat": 4,
 "nbformat_minor": 0
}