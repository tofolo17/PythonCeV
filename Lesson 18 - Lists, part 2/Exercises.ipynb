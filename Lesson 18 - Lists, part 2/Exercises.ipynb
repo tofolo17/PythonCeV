{
 "cells": [
  {
   "cell_type": "markdown",
   "metadata": {
    "collapsed": true,
    "pycharm": {
     "name": "#%% md\n"
    }
   },
   "source": [
    "### 84. Complex lists and analysis."
   ]
  },
  {
   "cell_type": "code",
   "execution_count": null,
   "outputs": [],
   "source": [
    "names, weights = [], []\n",
    "while True:\n",
    "    name = input('Name: ')\n",
    "    weight = input('Weight: ')\n",
    "    names.append(name)\n",
    "    weights.append(weight)\n",
    "    option = input(\"Would you like to continue? [Y/N]\").upper()\n",
    "    if option == \"N\":\n",
    "        break\n",
    "\n",
    "print(len(names))\n",
    "\n",
    "for weight in weights:\n",
    "    if weight == max(weights):\n",
    "        print(names[weights.index(weight)])\n",
    "\n",
    "for weight in weights:\n",
    "    if weight == min(weights):\n",
    "        print(names[weights.index(weight)])"
   ],
   "metadata": {
    "collapsed": false,
    "pycharm": {
     "name": "#%%\n"
    }
   }
  },
  {
   "cell_type": "markdown",
   "source": [
    "### 86. Matrix, part 1"
   ],
   "metadata": {
    "collapsed": false,
    "pycharm": {
     "name": "#%% md\n"
    }
   }
  },
  {
   "cell_type": "code",
   "execution_count": null,
   "outputs": [],
   "source": [
    "lines = int(input('Lines: '))\n",
    "columns = int(input('Columns: '))\n",
    "\n",
    "matrix = [[] for line in range(lines)]\n",
    "\n",
    "for i in range(lines):\n",
    "    for j in range(columns):\n",
    "        matrix_index = int(input(f'Enter the following index: [{i + 1}, {j + 1}]: '))\n",
    "        matrix[i].append(matrix_index)\n",
    "\n",
    "for i in range(lines):\n",
    "    for j in range(columns):\n",
    "        if columns == 1:\n",
    "            print(f'| {matrix[i][j]:^3} |', end='')\n",
    "        else:\n",
    "            if j == 0:\n",
    "                print(f'| {matrix[i][j]:^3} ', end='')\n",
    "            elif j == columns - 1:\n",
    "                print(f' {matrix[i][j]:^3} |', end='')\n",
    "            else:\n",
    "                print(f' {matrix[i][j]:^3} ', end='')\n",
    "    print()"
   ],
   "metadata": {
    "collapsed": false,
    "pycharm": {
     "name": "#%%\n"
    }
   }
  },
  {
   "cell_type": "markdown",
   "source": [
    "### 87. Matrix, part 2"
   ],
   "metadata": {
    "collapsed": false,
    "pycharm": {
     "name": "#%% md\n"
    }
   }
  },
  {
   "cell_type": "code",
   "execution_count": null,
   "outputs": [],
   "source": [
    "lines = int(input('Lines: '))\n",
    "columns = int(input('Columns: '))\n",
    "\n",
    "even_numbers = []\n",
    "matrix = [[] for line in range(lines)]\n",
    "\n",
    "for i in range(lines):\n",
    "    for j in range(columns):\n",
    "        matrix_index = int(input(f'Enter the following index: [{i + 1}, {j + 1}]: '))\n",
    "        even_numbers.append(matrix_index if matrix_index % 2 == 0 else 0)\n",
    "        matrix[i].append(matrix_index)\n",
    "\n",
    "for i in range(lines):\n",
    "    for j in range(columns):\n",
    "        if columns == 1:\n",
    "            print(f'| {matrix[i][j]:^3} |', end='')\n",
    "        else:\n",
    "            if j == 0:\n",
    "                print(f'| {matrix[i][j]:^3} ', end='')\n",
    "            elif j == columns - 1:\n",
    "                print(f' {matrix[i][j]:^3} |', end='')\n",
    "            else:\n",
    "                print(f' {matrix[i][j]:^3} ', end='')\n",
    "    print()\n",
    "\n",
    "print(sum(even_numbers))\n",
    "print(sum(matrix[0]))\n",
    "print(max(matrix[0]))"
   ],
   "metadata": {
    "collapsed": false,
    "pycharm": {
     "name": "#%%\n"
    }
   }
  },
  {
   "cell_type": "markdown",
   "source": [
    "### 88. Mega sena"
   ],
   "metadata": {
    "collapsed": false,
    "pycharm": {
     "name": "#%% md\n"
    }
   }
  },
  {
   "cell_type": "code",
   "execution_count": null,
   "outputs": [],
   "source": [
    "from random import randint\n",
    "\n",
    "games = int(input('Amount of games: '))\n",
    "\n",
    "mega = [[] for game in range(games)]\n",
    "for i in range(games):\n",
    "    j = 0\n",
    "    while j < 6:\n",
    "        n = randint(1, 60)\n",
    "        if n not in mega[i] or len(mega[i]) == 0:\n",
    "            mega[i].append(n)\n",
    "            j += 1\n",
    "\n",
    "for i in range(games):\n",
    "    print(sorted(mega[i]))\n"
   ],
   "metadata": {
    "collapsed": false,
    "pycharm": {
     "name": "#%%\n"
    }
   }
  },
  {
   "cell_type": "markdown",
   "source": [
    "### 89. School report card with compound lists"
   ],
   "metadata": {
    "collapsed": false,
    "pycharm": {
     "name": "#%% md\n"
    }
   }
  },
  {
   "cell_type": "code",
   "execution_count": null,
   "outputs": [],
   "source": [
    "data = []\n",
    "while True:\n",
    "    name = input('Name: ')\n",
    "    fst_grade = float(input('First grade: '))\n",
    "    snd_grade = float(input('Second grade: '))\n",
    "    average = (fst_grade + snd_grade) / 2\n",
    "    data.append([name, fst_grade, snd_grade, average])\n",
    "    option = input(\"Would you like to continue? [Y/N]\").upper()\n",
    "    if option == \"N\":\n",
    "        break\n",
    "\n",
    "print(f'\\n{\"N°\":<4}{\"Name\":<10}{\"Average\":>8}')\n",
    "for i in range(len(data)):\n",
    "    print(f'{i + 1:<4}{data[i][0]:<10}{data[i][-1]:>8.2f}')\n",
    "\n",
    "while True:\n",
    "    choice = int(input('Choose a student [999 to exit]: '))\n",
    "    if choice != 999:\n",
    "        print(data[choice + 1])\n",
    "    else:\n",
    "        break"
   ],
   "metadata": {
    "collapsed": false,
    "pycharm": {
     "name": "#%%\n"
    }
   }
  }
 ],
 "metadata": {
  "kernelspec": {
   "display_name": "Python 3",
   "language": "python",
   "name": "python3"
  },
  "language_info": {
   "codemirror_mode": {
    "name": "ipython",
    "version": 2
   },
   "file_extension": ".py",
   "mimetype": "text/x-python",
   "name": "python",
   "nbconvert_exporter": "python",
   "pygments_lexer": "ipython2",
   "version": "2.7.6"
  }
 },
 "nbformat": 4,
 "nbformat_minor": 0
}