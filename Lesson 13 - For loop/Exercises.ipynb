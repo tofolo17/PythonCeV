{
 "cells": [
  {
   "cell_type": "markdown",
   "metadata": {
    "collapsed": true,
    "pycharm": {
     "name": "#%% md\n"
    }
   },
   "source": [
    "## Exercises\n",
    "### 46. Countdown"
   ]
  },
  {
   "cell_type": "code",
   "execution_count": null,
   "outputs": [],
   "source": [
    "from time import sleep\n",
    "\n",
    "for sec in range(10, 0, -1):\n",
    "    print(sec)\n",
    "    sleep(1)\n",
    "\n",
    "print('BUM! POW! BUM!')"
   ],
   "metadata": {
    "collapsed": false,
    "pycharm": {
     "name": "#%%\n"
    }
   }
  },
  {
   "cell_type": "markdown",
   "source": [
    "### 47. Pair count"
   ],
   "metadata": {
    "collapsed": false,
    "pycharm": {
     "name": "#%% md\n"
    }
   }
  },
  {
   "cell_type": "code",
   "execution_count": null,
   "outputs": [],
   "source": [
    "fst_number = int(input('Starting integer: '))\n",
    "lst_number = int(input('Final integer: '))\n",
    "\n",
    "for number in range(fst_number, lst_number + 1):\n",
    "    if number % 2 == 0:\n",
    "        print(number, end=\" \")"
   ],
   "metadata": {
    "collapsed": false,
    "pycharm": {
     "name": "#%%\n"
    }
   }
  },
  {
   "cell_type": "markdown",
   "source": [
    "## 48. Odd ones that are multiples of three"
   ],
   "metadata": {
    "collapsed": false,
    "pycharm": {
     "name": "#%% md\n"
    }
   }
  },
  {
   "cell_type": "code",
   "execution_count": null,
   "outputs": [],
   "source": [
    "fst_number = int(input('Starting integer: '))\n",
    "lst_number = int(input('Final integer: '))\n",
    "\n",
    "for number in range(fst_number, lst_number + 1):\n",
    "    if number % 2 == 1 and number % 3 == 0:\n",
    "        print(number, end=\" \")"
   ],
   "metadata": {
    "collapsed": false,
    "pycharm": {
     "name": "#%%\n"
    }
   }
  },
  {
   "cell_type": "markdown",
   "source": [
    "# 50. Adding even numbers"
   ],
   "metadata": {
    "collapsed": false,
    "pycharm": {
     "name": "#%% md\n"
    }
   }
  },
  {
   "cell_type": "code",
   "execution_count": null,
   "outputs": [],
   "source": [
    "number_amount = int(input('How many integers will you enter? '))\n",
    "\n",
    "pair_numbers = []\n",
    "for i in range(number_amount):\n",
    "    number = int(input(f\"{i + 1}° integer: \"))\n",
    "    if number % 2 ==0:\n",
    "        pair_numbers.append(number)\n",
    "\n",
    "print(sum(pair_numbers))"
   ],
   "metadata": {
    "collapsed": false,
    "pycharm": {
     "name": "#%%\n"
    }
   }
  },
  {
   "cell_type": "markdown",
   "source": [
    "## 51. Arithmetic progression"
   ],
   "metadata": {
    "collapsed": false,
    "pycharm": {
     "name": "#%% md\n"
    }
   }
  },
  {
   "cell_type": "code",
   "execution_count": null,
   "outputs": [],
   "source": [
    "term_amount = int(input('How many terms will you enter? '))\n",
    "first_term = int(input('First term: '))\n",
    "ratio  = int(input('Razão: '))\n",
    "\n",
    "for term_index in range(term_amount):\n",
    "    print(first_term + ratio * term_index, end=\" \")"
   ],
   "metadata": {
    "collapsed": false,
    "pycharm": {
     "name": "#%%\n"
    }
   }
  },
  {
   "cell_type": "markdown",
   "source": [
    "## 52. Prime number"
   ],
   "metadata": {
    "collapsed": false,
    "pycharm": {
     "name": "#%% md\n"
    }
   }
  },
  {
   "cell_type": "code",
   "execution_count": 8,
   "outputs": [
    {
     "name": "stdout",
     "output_type": "stream",
     "text": [
      "Not a prime number. Divisors: [1, 2, 617, 1234]\n"
     ]
    }
   ],
   "source": [
    "int_input = int(input('Enter an integer: '))\n",
    "\n",
    "divisors = []\n",
    "for divisor in range(1, int_input + 1):\n",
    "    if int_input % divisor == 0:\n",
    "        divisors.append(divisor)\n",
    "\n",
    "if len(divisors) <= 2:\n",
    "    print(\"Prime number!\")\n",
    "else:\n",
    "    print(f\"Not a prime number. Divisors: {divisors}\")"
   ],
   "metadata": {
    "collapsed": false,
    "pycharm": {
     "name": "#%%\n"
    }
   }
  },
  {
   "cell_type": "markdown",
   "source": [
    "## 53. Palindrome"
   ],
   "metadata": {
    "collapsed": false,
    "pycharm": {
     "name": "#%% md\n"
    }
   }
  },
  {
   "cell_type": "code",
   "execution_count": null,
   "outputs": [],
   "source": [
    "phrase = input(\"Enter something: \")\n"
   ],
   "metadata": {
    "collapsed": false,
    "pycharm": {
     "name": "#%%\n"
    }
   }
  }
 ],
 "metadata": {
  "kernelspec": {
   "display_name": "Python 3",
   "language": "python",
   "name": "python3"
  },
  "language_info": {
   "codemirror_mode": {
    "name": "ipython",
    "version": 2
   },
   "file_extension": ".py",
   "mimetype": "text/x-python",
   "name": "python",
   "nbconvert_exporter": "python",
   "pygments_lexer": "ipython2",
   "version": "2.7.6"
  }
 },
 "nbformat": 4,
 "nbformat_minor": 0
}