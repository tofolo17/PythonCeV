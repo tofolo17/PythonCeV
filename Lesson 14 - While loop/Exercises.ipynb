{
 "cells": [
  {
   "cell_type": "markdown",
   "metadata": {
    "collapsed": true,
    "pycharm": {
     "name": "#%% md\n"
    }
   },
   "source": [
    "## 57. Data validation"
   ]
  },
  {
   "cell_type": "code",
   "execution_count": null,
   "outputs": [],
   "source": [
    "sex = input('Enter your gender [M/F]: ').strip().upper()\n",
    "\n",
    "while sex not in 'MF':\n",
    "    sex = input('Invalid gender. Try it again [M/F]: ').strip().upper()\n",
    "\n",
    "print('Registered ({}).'.format(sex))"
   ],
   "metadata": {
    "collapsed": false,
    "pycharm": {
     "name": "#%%\n"
    }
   }
  },
  {
   "cell_type": "markdown",
   "source": [
    "## 58. Divination, part 2"
   ],
   "metadata": {
    "collapsed": false,
    "pycharm": {
     "name": "#%% md\n"
    }
   }
  },
  {
   "cell_type": "code",
   "execution_count": null,
   "outputs": [],
   "source": [
    "from random import randint\n",
    "\n",
    "attempts = 1\n",
    "while True:\n",
    "    user_attempt = int(input(\n",
    "        'I will think in a number that is between 0 and 10. Try to guess it: ')\n",
    "    )\n",
    "    if user_attempt == randint(0, 10):\n",
    "        print(f'You did it in {attempts} attempts.')\n",
    "        break\n",
    "    else:\n",
    "        attempts += 1\n",
    "        print('Try again!')"
   ],
   "metadata": {
    "collapsed": false,
    "pycharm": {
     "name": "#%%\n"
    }
   }
  },
  {
   "cell_type": "markdown",
   "source": [
    "## 59. Menu"
   ],
   "metadata": {
    "collapsed": false,
    "pycharm": {
     "name": "#%% md\n"
    }
   }
  },
  {
   "cell_type": "code",
   "execution_count": null,
   "outputs": [],
   "source": [
    "float_1 = float(input(\"Enter a number: \"))\n",
    "float_2 = float(input(\"Enter another number: \"))\n",
    "\n",
    "resp = 0\n",
    "while resp != 5:\n",
    "    \"\"\"\n",
    "    print('[1] Sum')\n",
    "    print('[2] Multiply')\n",
    "    print('[3] Higher')\n",
    "    print('[4] New number')\n",
    "    print('[5] Exit')\n",
    "    \"\"\"\n",
    "    resp = int(input(\"Your option: \"))\n",
    "    if resp == 1:\n",
    "        print(float_1 + float_2)\n",
    "    elif resp == 2:\n",
    "        print(float_1 * float_2)\n",
    "    elif resp == 3:\n",
    "        print(max([float_1, float_2]))\n",
    "    elif resp == 4:\n",
    "        float_1 = float(input(\"Enter a number: \"))\n",
    "        float_2 = float(input(\"Enter another number: \"))\n",
    "    else:\n",
    "        break"
   ],
   "metadata": {
    "collapsed": false,
    "pycharm": {
     "name": "#%%\n"
    }
   }
  },
  {
   "cell_type": "markdown",
   "source": [
    "## 60. Factorial"
   ],
   "metadata": {
    "collapsed": false,
    "pycharm": {
     "name": "#%% md\n"
    }
   }
  },
  {
   "cell_type": "code",
   "execution_count": null,
   "outputs": [],
   "source": [
    "from math import factorial\n",
    "\n",
    "int_input = int(input('Enter an integer: '))\n",
    "\n",
    "print(f\"The factorial of {int_input} is equal to {factorial(int_input)}\")\n",
    "\n",
    "for x in range(int_input, 1, -1):\n",
    "    print(x, 'x ', end='')\n",
    "print('1 ', end='')\n",
    "print('=', factorial(int_input))"
   ],
   "metadata": {
    "collapsed": false,
    "pycharm": {
     "name": "#%%\n"
    }
   }
  },
  {
   "cell_type": "markdown",
   "source": [
    "## 61|62. Arithmetic progression, part 2"
   ],
   "metadata": {
    "collapsed": false,
    "pycharm": {
     "name": "#%% md\n"
    }
   }
  },
  {
   "cell_type": "code",
   "execution_count": null,
   "outputs": [],
   "source": [
    "term_amount = int(input('How many terms will you enter? '))\n",
    "first_term = int(input('First term: '))\n",
    "ratio  = int(input('Ratio: '))\n",
    "\n",
    "for term_index in range(term_amount):\n",
    "    print(first_term + ratio * term_index, end=\" \")\n",
    "\n",
    "while True:\n",
    "    add = int(input(\n",
    "        \"\\nWould you like to continue? If so, enter how \"\n",
    "        \"many terms you want to add. Else, '0': \")\n",
    "    )\n",
    "    if add != 0:\n",
    "        first_term = first_term + ratio * term_amount\n",
    "        for term_index in range(add + 1):\n",
    "            print(first_term + ratio * term_index, end=\" \")\n",
    "    else:\n",
    "        break"
   ],
   "metadata": {
    "collapsed": false,
    "pycharm": {
     "name": "#%%\n"
    }
   }
  },
  {
   "cell_type": "markdown",
   "source": [
    "## 63. Fibonacci sequence, part 1"
   ],
   "metadata": {
    "collapsed": false,
    "pycharm": {
     "name": "#%% md\n"
    }
   }
  },
  {
   "cell_type": "code",
   "execution_count": null,
   "outputs": [],
   "source": [
    "sequence_numbers = int(input('Enter how many numbers you want from the Fibonacci Sequence:  '))\n",
    "\n",
    "f = [0, 1]\n",
    "for c in range(sequence_numbers):\n",
    "    f.append(f[c] + f[c + 1])\n",
    "\n",
    "print(f[:sequence_numbers])"
   ],
   "metadata": {
    "collapsed": false,
    "pycharm": {
     "name": "#%%\n"
    }
   }
  },
  {
   "cell_type": "markdown",
   "source": [
    "## 64. Dealing with different values, part 1"
   ],
   "metadata": {
    "collapsed": false,
    "pycharm": {
     "name": "#%% md\n"
    }
   }
  },
  {
   "cell_type": "code",
   "execution_count": null,
   "outputs": [],
   "source": [
    "int_input = total = cont = 0\n",
    "while int_input != 999:\n",
    "    int_input = int(input('Enter an integer (999 to stop): '))\n",
    "    if int_input != 999:\n",
    "        total += int_input\n",
    "        cont += 1\n",
    "\n",
    "print(f'')"
   ],
   "metadata": {
    "collapsed": false,
    "pycharm": {
     "name": "#%%\n"
    }
   }
  }
 ],
 "metadata": {
  "kernelspec": {
   "display_name": "Python 3",
   "language": "python",
   "name": "python3"
  },
  "language_info": {
   "codemirror_mode": {
    "name": "ipython",
    "version": 2
   },
   "file_extension": ".py",
   "mimetype": "text/x-python",
   "name": "python",
   "nbconvert_exporter": "python",
   "pygments_lexer": "ipython2",
   "version": "2.7.6"
  }
 },
 "nbformat": 4,
 "nbformat_minor": 0
}