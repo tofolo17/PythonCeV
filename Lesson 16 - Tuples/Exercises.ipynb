{
 "cells": [
  {
   "cell_type": "markdown",
   "metadata": {
    "collapsed": true,
    "pycharm": {
     "name": "#%% md\n"
    }
   },
   "source": [
    "### 72. Number in words"
   ]
  },
  {
   "cell_type": "code",
   "execution_count": null,
   "outputs": [],
   "source": [
    "integers = (\n",
    "    \"one\",\n",
    "    \"two\",\n",
    "    \"three\",\n",
    "    \"four\",\n",
    "    \"five\"\n",
    ")\n",
    "\n",
    "\n",
    "option = int(input('Enter an integer that is between 1 and 5: '))\n",
    "while True:\n",
    "    if 0 < option < len(integers) + 1:\n",
    "        print(integers[option - 1])\n",
    "        break\n",
    "    else:\n",
    "        option = int(input(\"Try again: \"))"
   ],
   "metadata": {
    "collapsed": false,
    "pycharm": {
     "name": "#%%\n"
    }
   }
  },
  {
   "cell_type": "markdown",
   "source": [
    "### 73. Football and tuples"
   ],
   "metadata": {
    "collapsed": false,
    "pycharm": {
     "name": "#%% md\n"
    }
   }
  },
  {
   "cell_type": "code",
   "execution_count": null,
   "outputs": [],
   "source": [
    "brasileirao = (\n",
    "    'PALMEIRAS',\n",
    "    'FLAMENGO',\n",
    "    'INTERNACIONAL',\n",
    "    'GRÊMIO',\n",
    "    'SÃO PAULO',\n",
    "    'ATLÉTICO MINEIRO',\n",
    "    'ATLÉTICO PARANAENSE',\n",
    "    'CRUZEIRO',\n",
    "    'BOTAFOGO',\n",
    "    'SANTOS',\n",
    "    'BAHIA',\n",
    "    'CORINTHIANS',\n",
    "    'FLUMINENSE',\n",
    "    'CEARÁ',\n",
    "    'VASCO',\n",
    "    'SPORT',\n",
    "    'AMÉRICA MINEIRO',\n",
    "    'CHAPECOENSE',\n",
    "    'VITÓRIA',\n",
    "    'PARANÁ'\n",
    ")\n",
    "\n",
    "\"\"\"\n",
    "BRASILEIRÃO 2018\n",
    "\n",
    "[ A ] The first four\n",
    "[ B ] The last four\n",
    "[ C ] Alphabetical order\n",
    "[ D ] Your team's position\n",
    "[ E ] Exit\n",
    "\"\"\"\n",
    "\n",
    "while True:\n",
    "    option = str(input('Enter your option: ')).upper().strip()\n",
    "    if option == 'A':\n",
    "        print(brasileirao[:4])\n",
    "    elif option == 'B':\n",
    "        print(brasileirao[-4:])\n",
    "    elif option == 'C':\n",
    "        print(sorted(brasileirao))\n",
    "    elif option == 'D':\n",
    "        team = input(\"Team's name: \").upper()\n",
    "        while team not in brasileirao:\n",
    "            team = input('Try again: ').upper()\n",
    "        print(f'{brasileirao.index(team) + 1}')\n",
    "    elif option == 'E':\n",
    "        break"
   ],
   "metadata": {
    "collapsed": false,
    "pycharm": {
     "name": "#%%\n"
    }
   }
  },
  {
   "cell_type": "markdown",
   "source": [
    "### 74. Max and min"
   ],
   "metadata": {
    "collapsed": false,
    "pycharm": {
     "name": "#%% md\n"
    }
   }
  },
  {
   "cell_type": "code",
   "execution_count": null,
   "outputs": [],
   "source": [
    "from random import randint\n",
    "\n",
    "random_tuple = (randint(1, 10), randint(1, 10), randint(1, 10), randint(1, 10), randint(1, 10))\n",
    "\n",
    "print(random_tuple)\n",
    "\n",
    "print(max(random_tuple))\n",
    "print(min(random_tuple))"
   ],
   "metadata": {
    "collapsed": false,
    "pycharm": {
     "name": "#%%\n"
    }
   }
  },
  {
   "cell_type": "markdown",
   "source": [
    "### 75. Data analysis using tuples"
   ],
   "metadata": {
    "collapsed": false,
    "pycharm": {
     "name": "#%% md\n"
    }
   }
  },
  {
   "cell_type": "code",
   "execution_count": null,
   "outputs": [],
   "source": [
    "amount = int(input('Amount of integers: '))\n",
    "our_tuple = tuple(int(input(f'{i + 1}° integer: ')) for i in range(amount))\n",
    "\n",
    "print(our_tuple)\n",
    "print(our_tuple.count(9))\n",
    "print(our_tuple.index(3) if our_tuple.count(3) > 0 else 0)\n",
    "print(len([integer for integer in our_tuple if integer % 2 == 0]))"
   ],
   "metadata": {
    "collapsed": false,
    "pycharm": {
     "name": "#%%\n"
    }
   }
  },
  {
   "cell_type": "markdown",
   "source": [
    "### 76. Price list"
   ],
   "metadata": {
    "collapsed": false,
    "pycharm": {
     "name": "#%% md\n"
    }
   }
  },
  {
   "cell_type": "code",
   "execution_count": null,
   "outputs": [],
   "source": [
    "products = (\n",
    "    \"Pencil\", 1.75,\n",
    "    \"Eraser\", 2.00,\n",
    "    \"Notebook\", 15.90,\n",
    "    \"Pencil case\", 25.00,\n",
    "    \"Protractor\", 4.20,\n",
    "    \"Compass\", 9.99,\n",
    "    \"Bag\", 120.49,\n",
    "    \"Pen kit\", 22.30,\n",
    "    \"Book\", 34.90\n",
    ")\n",
    "\n",
    "i = 0\n",
    "print(f'{\"PRICE LIST\":^39}')\n",
    "for i in range(0, len(products)):\n",
    "    if i % 2 == 0:\n",
    "        print(f'{products[i]:.<30}', end='')\n",
    "    else:\n",
    "        print(f'R${products[i]:>7.2f}')\n",
    "    i += 1"
   ],
   "metadata": {
    "collapsed": false,
    "pycharm": {
     "name": "#%%\n"
    }
   }
  },
  {
   "cell_type": "markdown",
   "source": [
    "### 77. Vowels"
   ],
   "metadata": {
    "collapsed": false,
    "pycharm": {
     "name": "#%% md\n"
    }
   }
  },
  {
   "cell_type": "code",
   "execution_count": null,
   "outputs": [],
   "source": [
    "\n",
    "text = input('Enter some text: ').lower().strip()\n",
    "vog = ('a', 'e', 'i', 'o', 'u')\n",
    "\n",
    "print(len([\" \" for letter in text if letter in vog]))"
   ],
   "metadata": {
    "collapsed": false,
    "pycharm": {
     "name": "#%%\n"
    }
   }
  }
 ],
 "metadata": {
  "kernelspec": {
   "display_name": "Python 3",
   "language": "python",
   "name": "python3"
  },
  "language_info": {
   "codemirror_mode": {
    "name": "ipython",
    "version": 2
   },
   "file_extension": ".py",
   "mimetype": "text/x-python",
   "name": "python",
   "nbconvert_exporter": "python",
   "pygments_lexer": "ipython2",
   "version": "2.7.6"
  }
 },
 "nbformat": 4,
 "nbformat_minor": 0
}