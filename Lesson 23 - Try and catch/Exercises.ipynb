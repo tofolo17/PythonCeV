{
 "cells": [
  {
   "cell_type": "markdown",
   "metadata": {
    "collapsed": true,
    "pycharm": {
     "name": "#%% md\n"
    }
   },
   "source": [
    "### 114. Connection test"
   ]
  },
  {
   "cell_type": "code",
   "execution_count": null,
   "outputs": [],
   "source": [
    "from urllib import request\n",
    "\n",
    "\n",
    "def connect(host='http://google.com'):\n",
    "    try:\n",
    "        request.urlopen(host)\n",
    "        return True\n",
    "    except Exception:\n",
    "        return False\n",
    "\n",
    "\n",
    "print('Online' if connect() else 'Offline')"
   ],
   "metadata": {
    "collapsed": false,
    "pycharm": {
     "name": "#%%\n"
    }
   }
  },
  {
   "cell_type": "markdown",
   "source": [
    "### 115. Final exercise"
   ],
   "metadata": {
    "collapsed": false,
    "pycharm": {
     "name": "#%% md\n"
    }
   }
  },
  {
   "cell_type": "code",
   "execution_count": null,
   "outputs": [],
   "source": [
    "\n",
    "from Utilities.Validation import *\n",
    "from Utilities.Files import *\n",
    "\n",
    "data = dict()\n",
    "\n",
    "path = \"C://Users//tofol//Documents//GitHub//PythonCeV//Lesson 23 - Try and catch//records\"\n",
    "\n",
    "resp = 0\n",
    "while resp != 3:\n",
    "    print(\"Main Menu\")\n",
    "    print(f\"[1] Records\")\n",
    "    print(f\"[2] Register\")\n",
    "    print(f'[3] Exit')\n",
    "    resp = validate_options(3)\n",
    "    if resp == 1:\n",
    "        print(\"RECORDS\")\n",
    "        read_txt(path)\n",
    "    elif resp == 2:\n",
    "        print(\"REGISTER\")\n",
    "        data['Name'] = validate_str('Name: ')\n",
    "        data['Age'] = validate_int('Age: ')\n",
    "        insert(path, data)\n",
    "    elif resp == 3:\n",
    "        print(\"Bye bye.\")"
   ],
   "metadata": {
    "collapsed": false,
    "pycharm": {
     "name": "#%%\n"
    }
   }
  }
 ],
 "metadata": {
  "kernelspec": {
   "display_name": "Python 3",
   "language": "python",
   "name": "python3"
  },
  "language_info": {
   "codemirror_mode": {
    "name": "ipython",
    "version": 2
   },
   "file_extension": ".py",
   "mimetype": "text/x-python",
   "name": "python",
   "nbconvert_exporter": "python",
   "pygments_lexer": "ipython2",
   "version": "2.7.6"
  }
 },
 "nbformat": 4,
 "nbformat_minor": 0
}