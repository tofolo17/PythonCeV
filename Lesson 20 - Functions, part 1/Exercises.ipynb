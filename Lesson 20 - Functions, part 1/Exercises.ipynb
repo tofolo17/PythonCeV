{
 "cells": [
  {
   "cell_type": "markdown",
   "metadata": {
    "collapsed": true,
    "pycharm": {
     "name": "#%% md\n"
    }
   },
   "source": [
    "### 96. Function that calculates the area"
   ]
  },
  {
   "cell_type": "code",
   "execution_count": null,
   "outputs": [],
   "source": [
    "def area(width, length):\n",
    "    a = width * length\n",
    "    print(f'Area: {width} x {length} = {a}.')\n",
    "\n",
    "\n",
    "w = float(input('Width: '))\n",
    "l = float(input('Length: '))\n",
    "\n",
    "area(w, l)"
   ],
   "metadata": {
    "collapsed": false,
    "pycharm": {
     "name": "#%%\n"
    }
   }
  },
  {
   "cell_type": "markdown",
   "source": [
    "### 97. Special print"
   ],
   "metadata": {
    "collapsed": false,
    "pycharm": {
     "name": "#%% md\n"
    }
   }
  },
  {
   "cell_type": "code",
   "execution_count": null,
   "outputs": [],
   "source": [
    "def special_print(msg):\n",
    "    align = int(len(msg) + 4)\n",
    "    print('~' * align)\n",
    "    print(f'  {msg}')\n",
    "    print('~' * align)\n",
    "\n",
    "\n",
    "special_print(input('Enter something: '))"
   ],
   "metadata": {
    "collapsed": false,
    "pycharm": {
     "name": "#%%\n"
    }
   }
  },
  {
   "cell_type": "markdown",
   "source": [
    "### 98. Counter"
   ],
   "metadata": {
    "collapsed": false,
    "pycharm": {
     "name": "#%% md\n"
    }
   }
  },
  {
   "cell_type": "code",
   "execution_count": null,
   "outputs": [],
   "source": [
    "from time import sleep\n",
    "\n",
    "\n",
    "def counter(i, f, j):\n",
    "    for x in range(i, f + 1, j):\n",
    "        print(f'[{x}] ', end='')\n",
    "        sleep(1)\n",
    "    print()\n",
    "\n",
    "\n",
    "counter(20, 10, -2)\n"
   ],
   "metadata": {
    "collapsed": false,
    "pycharm": {
     "name": "#%%\n"
    }
   }
  },
  {
   "cell_type": "markdown",
   "source": [
    "### 99. Higher in list"
   ],
   "metadata": {
    "collapsed": false,
    "pycharm": {
     "name": "#%% md\n"
    }
   }
  },
  {
   "cell_type": "code",
   "execution_count": null,
   "outputs": [],
   "source": [
    "def higher(numbers: list):\n",
    "    print(max(numbers))\n",
    "\n",
    "\n",
    "higher([1, 5, 7, 2])"
   ],
   "metadata": {
    "collapsed": false,
    "pycharm": {
     "name": "#%%\n"
    }
   }
  },
  {
   "cell_type": "markdown",
   "source": [
    "### 100. Function to sort and sum"
   ],
   "metadata": {
    "collapsed": false,
    "pycharm": {
     "name": "#%% md\n"
    }
   }
  },
  {
   "cell_type": "code",
   "execution_count": null,
   "outputs": [],
   "source": [
    "def sort(your_list: list):\n",
    "    return sorted(your_list)\n",
    "\n",
    "\n",
    "def analysis(your_list: list):\n",
    "    return sum([value for value in your_list if value % 2 == 0])\n",
    "\n",
    "\n",
    "s = analysis(sort([2, 7, 1, 3, -3]))\n",
    "print(s)\n"
   ],
   "metadata": {
    "collapsed": false,
    "pycharm": {
     "name": "#%%\n"
    }
   }
  }
 ],
 "metadata": {
  "kernelspec": {
   "display_name": "Python 3",
   "language": "python",
   "name": "python3"
  },
  "language_info": {
   "codemirror_mode": {
    "name": "ipython",
    "version": 2
   },
   "file_extension": ".py",
   "mimetype": "text/x-python",
   "name": "python",
   "nbconvert_exporter": "python",
   "pygments_lexer": "ipython2",
   "version": "2.7.6"
  }
 },
 "nbformat": 4,
 "nbformat_minor": 0
}