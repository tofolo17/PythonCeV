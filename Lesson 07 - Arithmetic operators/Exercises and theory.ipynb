{
 "cells": [
  {
   "cell_type": "markdown",
   "metadata": {
    "collapsed": true,
    "pycharm": {
     "name": "#%% md\n"
    }
   },
   "source": [
    "## Exercises\n",
    "### 05. Successor and predecessor"
   ]
  },
  {
   "cell_type": "code",
   "execution_count": null,
   "outputs": [],
   "source": [
    "int_input = int(input('Enter an integer: '))\n",
    "\n",
    "print(f'\\nPredecessor: {int_input - 1}\\nSuccessor: {int_input + 1}')"
   ],
   "metadata": {
    "collapsed": false,
    "pycharm": {
     "name": "#%%\n"
    }
   }
  },
  {
   "cell_type": "markdown",
   "source": [
    "### 06. Double, triple and sqrt"
   ],
   "metadata": {
    "collapsed": false,
    "pycharm": {
     "name": "#%% md\n"
    }
   }
  },
  {
   "cell_type": "code",
   "execution_count": null,
   "outputs": [],
   "source": [
    "int_input = int(input('Enter an integer: '))\n",
    "\n",
    "d = int_input * 2\n",
    "t = int_input * 3\n",
    "sqrt = int_input ** 0.5\n",
    "\n",
    "print(f\"\\nDouble: {d}\\nTriple: {t}\\nSquare Root: {sqrt:.2f}\")"
   ],
   "metadata": {
    "collapsed": false,
    "pycharm": {
     "name": "#%%\n"
    }
   }
  },
  {
   "cell_type": "markdown",
   "source": [
    "### 07. Scales"
   ],
   "metadata": {
    "collapsed": false,
    "pycharm": {
     "name": "#%% md\n"
    }
   }
  },
  {
   "cell_type": "code",
   "execution_count": null,
   "outputs": [],
   "source": [
    "m = float(input('Length (meters): '))\n",
    "\n",
    "cm = m * 100\n",
    "mm = m * 1000\n",
    "\n",
    "print(f\"Centimeters: {cm:.2f}\\nMillimeters: {mm:.2f}\")"
   ],
   "metadata": {
    "collapsed": false,
    "pycharm": {
     "name": "#%%\n"
    }
   }
  },
  {
   "cell_type": "markdown",
   "source": [
    "### 08. Simple school grade"
   ],
   "metadata": {
    "collapsed": false,
    "pycharm": {
     "name": "#%% md\n"
    }
   }
  },
  {
   "cell_type": "code",
   "execution_count": null,
   "outputs": [],
   "source": [
    "fst_grade = float(input(\"Enter your first grade: \"))\n",
    "snd_grade = float(input(\"Enter your second grade: \"))\n",
    "\n",
    "average = (fst_grade + snd_grade) / 2\n",
    "\n",
    "print(f\"Average grade: {average:.2f}\")"
   ],
   "metadata": {
    "collapsed": false,
    "pycharm": {
     "name": "#%%\n"
    }
   }
  },
  {
   "cell_type": "markdown",
   "source": [
    "### 09. Multiplication table"
   ],
   "metadata": {
    "collapsed": false,
    "pycharm": {
     "name": "#%% md\n"
    }
   }
  },
  {
   "cell_type": "code",
   "execution_count": null,
   "outputs": [],
   "source": [
    "int_input = int(input(\"Enter an integer and see its multiplication table: \"))\n",
    "\n",
    "fst_multiplier = int(input(\"Starting multiplier integer: \"))\n",
    "lst_multiplier = int(input(\"Final multiplier integer: \"))\n",
    "\n",
    "for multiplier in range(fst_multiplier, lst_multiplier + 1):\n",
    "    print(f'{int_input} X {multiplier} = {int_input * multiplier}')"
   ],
   "metadata": {
    "collapsed": false,
    "pycharm": {
     "name": "#%%\n"
    }
   }
  },
  {
   "cell_type": "markdown",
   "source": [
    "### 10. Real-dollar"
   ],
   "metadata": {
    "collapsed": false,
    "pycharm": {
     "name": "#%% md\n"
    }
   }
  },
  {
   "cell_type": "code",
   "execution_count": null,
   "outputs": [],
   "source": [
    "reais = float(input('What is your equity in reais? R$'))\n",
    "dollar = 5.23\n",
    "\n",
    "print(f\"That's equal to: ${reais/dollar:.2f}\")"
   ],
   "metadata": {
    "collapsed": false,
    "pycharm": {
     "name": "#%%\n"
    }
   }
  },
  {
   "cell_type": "markdown",
   "source": [
    "### 11. Cost over area"
   ],
   "metadata": {
    "collapsed": false,
    "pycharm": {
     "name": "#%% md\n"
    }
   }
  },
  {
   "cell_type": "code",
   "execution_count": null,
   "outputs": [],
   "source": [
    "from math import ceil\n",
    "\n",
    "height = float(input(\"Enter the height of the wall (meters): \"))\n",
    "width = float(input(\"Now, its width: \"))\n",
    "liter_price = float(input(\"What's the price of a liter of paint? R$\"))\n",
    "square_meters = float(input('How many square meters a liter of paint paints? '))\n",
    "\n",
    "wall_area = height * width\n",
    "required_liters = ceil(wall_area / square_meters)\n",
    "total_price = required_liters * liter_price\n",
    "\n",
    "print(\n",
    "    f\"\\nSquared meters: {wall_area:.2f}\\n\"\n",
    "    f\"Required liters: {required_liters:.2f}\\n\"\n",
    "    f\"Total price: R${total_price:.2f}\"\n",
    ")"
   ],
   "metadata": {
    "collapsed": false,
    "pycharm": {
     "name": "#%%\n"
    }
   }
  },
  {
   "cell_type": "markdown",
   "source": [
    "### 12. Discount"
   ],
   "metadata": {
    "collapsed": false,
    "pycharm": {
     "name": "#%% md\n"
    }
   }
  },
  {
   "cell_type": "code",
   "execution_count": null,
   "outputs": [],
   "source": [
    "initial_price = float(input(\"Enter the initial price: \"))\n",
    "final_price = initial_price * 0.95\n",
    "\n",
    "print(\"With the discount, it will cost: R${:.2f}\".format(final_price))"
   ],
   "metadata": {
    "collapsed": false,
    "pycharm": {
     "name": "#%%\n"
    }
   }
  },
  {
   "cell_type": "markdown",
   "source": [
    "### 13. Salary increase"
   ],
   "metadata": {
    "collapsed": false,
    "pycharm": {
     "name": "#%% md\n"
    }
   }
  },
  {
   "cell_type": "code",
   "execution_count": null,
   "outputs": [],
   "source": [
    "current_salary = float(input('Your current salary is equal to: R$ '))\n",
    "new_salary = current_salary * 1.15\n",
    "\n",
    "print('With the increase, it will be equal to: R${:.2f}'.format(new_salary))"
   ],
   "metadata": {
    "collapsed": false,
    "pycharm": {
     "name": "#%%\n"
    }
   }
  },
  {
   "cell_type": "markdown",
   "source": [
    "### 14. Temperature"
   ],
   "metadata": {
    "collapsed": false,
    "pycharm": {
     "name": "#%% md\n"
    }
   }
  },
  {
   "cell_type": "code",
   "execution_count": null,
   "outputs": [],
   "source": [
    "c = float(input('Enter the temperature in celsius: '))\n",
    "\n",
    "f = (1.8 * c) + 32\n",
    "k = c + 273\n",
    "\n",
    "print(f\"Fahrenheit: {f:.2f}\\nKelvin: {k:.2f}\")"
   ],
   "metadata": {
    "collapsed": false,
    "pycharm": {
     "name": "#%%\n"
    }
   }
  },
  {
   "cell_type": "markdown",
   "source": [
    "### 15. Car rent"
   ],
   "metadata": {
    "collapsed": false,
    "pycharm": {
     "name": "#%% md\n"
    }
   }
  },
  {
   "cell_type": "code",
   "execution_count": null,
   "outputs": [],
   "source": [
    "kilometers_traveled = float(input('How many kilometers did the car run? '))\n",
    "rental_days = int(input('What is the duration (in days) of the rental? '))\n",
    "\n",
    "c = 60 * rental_days + 0.15 * kilometers_traveled\n",
    "\n",
    "print(\"Total cost: R${:.2f}\".format(c))"
   ],
   "metadata": {
    "collapsed": false,
    "pycharm": {
     "name": "#%%\n"
    }
   }
  },
  {
   "cell_type": "markdown",
   "source": [
    "## Theory\n",
    "### Lining up"
   ],
   "metadata": {
    "collapsed": false,
    "pycharm": {
     "name": "#%% md\n"
    }
   }
  },
  {
   "cell_type": "code",
   "execution_count": null,
   "outputs": [],
   "source": [
    "name = input(\"What's your name? \")\n",
    "\n",
    "print('Nice to meet you, {}!'.format(name))\n",
    "print('Nice to meet you, {:20}!'.format(name))\n",
    "print('Nice to meet you, {:>20}!'.format(name))\n",
    "print('Nice to meet you, {:<20}!'.format(name))\n",
    "print('Nice to meet you, {:^20}!'.format(name))\n",
    "print('Nice to meet you, {:=^20}!'.format(name))"
   ],
   "metadata": {
    "collapsed": false,
    "pycharm": {
     "name": "#%%\n"
    }
   }
  },
  {
   "cell_type": "markdown",
   "source": [
    "### Arithmetic operators"
   ],
   "metadata": {
    "collapsed": false,
    "pycharm": {
     "name": "#%% md\n"
    }
   }
  },
  {
   "cell_type": "code",
   "execution_count": null,
   "outputs": [],
   "source": [
    "float_1 = float(input(\"Enter a number: \"))\n",
    "float_2 = float(input(\"Enter another number: \"))\n",
    "\n",
    "s = float_1 + float_2\n",
    "sub = float_1 - float_2\n",
    "m = float_1 * float_2\n",
    "div = float_1 / float_2\n",
    "exp = float_1 ** float_2\n",
    "exc_div = float_1 // float_2\n",
    "rest = float_1 % float_2\n",
    "\n",
    "print(\n",
    "    \"Sum = {:.2f} \\n\"\n",
    "    \"Subtraction = {:.2f} \\n\"\n",
    "    \"Multiplication = {:.2f} \\n\"\n",
    "    \"Division = {:.2f} \\n\"\n",
    "    \"Pow = {:.2f} \\n\"\n",
    "    \"Exact division = {:.2f} \\n\"\n",
    "    \"Rest = {:.2f} \\n\".format(s, sub, m, div, exp, exc_div, rest)\n",
    ")"
   ],
   "metadata": {
    "collapsed": false,
    "pycharm": {
     "name": "#%%\n"
    }
   }
  }
 ],
 "metadata": {
  "kernelspec": {
   "display_name": "Python 3",
   "language": "python",
   "name": "python3"
  },
  "language_info": {
   "codemirror_mode": {
    "name": "ipython",
    "version": 2
   },
   "file_extension": ".py",
   "mimetype": "text/x-python",
   "name": "python",
   "nbconvert_exporter": "python",
   "pygments_lexer": "ipython2",
   "version": "2.7.6"
  }
 },
 "nbformat": 4,
 "nbformat_minor": 0
}