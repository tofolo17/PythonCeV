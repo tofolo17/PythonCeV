{
 "cells": [
  {
   "cell_type": "markdown",
   "metadata": {
    "collapsed": true,
    "pycharm": {
     "name": "#%% md\n"
    }
   },
   "source": [
    "## Exercises\n",
    "### 05. Successor and predecessor"
   ]
  },
  {
   "cell_type": "code",
   "execution_count": null,
   "outputs": [],
   "source": [
    "n = int(input('Enter an integer: '))\n",
    "print(f'\\nPredecessor: {n - 1}\\nSuccessor: {n + 1}')"
   ],
   "metadata": {
    "collapsed": false,
    "pycharm": {
     "name": "#%%\n"
    }
   }
  },
  {
   "cell_type": "markdown",
   "source": [
    "### 06. Double, triple and sqrt"
   ],
   "metadata": {
    "collapsed": false,
    "pycharm": {
     "name": "#%% md\n"
    }
   }
  },
  {
   "cell_type": "code",
   "execution_count": null,
   "outputs": [],
   "source": [
    "n = int(input('Enter an integer: '))\n",
    "\n",
    "d = n * 2\n",
    "t = n * 3\n",
    "sqrt = n ** 0.5\n",
    "\n",
    "print(f\"\\nDouble: {d}\\nTriple: {t}\\nSquare Root: {sqrt:.2f}\")"
   ],
   "metadata": {
    "collapsed": false,
    "pycharm": {
     "name": "#%%\n"
    }
   }
  },
  {
   "cell_type": "markdown",
   "source": [
    "### 07. Scales"
   ],
   "metadata": {
    "collapsed": false,
    "pycharm": {
     "name": "#%% md\n"
    }
   }
  },
  {
   "cell_type": "code",
   "execution_count": null,
   "outputs": [],
   "source": [
    "m = float(input('Length (meters): '))\n",
    "\n",
    "cm = m * 100\n",
    "mm = m * 1000\n",
    "\n",
    "print(f\"Centimeters: {cm}\\nMillimeters: {mm}\")"
   ],
   "metadata": {
    "collapsed": false,
    "pycharm": {
     "name": "#%%\n"
    }
   }
  },
  {
   "cell_type": "markdown",
   "source": [
    "### 08. Simple school grade"
   ],
   "metadata": {
    "collapsed": false,
    "pycharm": {
     "name": "#%% md\n"
    }
   }
  },
  {
   "cell_type": "code",
   "execution_count": null,
   "outputs": [],
   "source": [
    "n1 = float(input(\"Enter your first grade: \"))\n",
    "n2 = float(input(\"Enter your second grade: \"))\n",
    "\n",
    "m = (n1 + n2) / 2\n",
    "\n",
    "print(f\"Average grade: {m:.2f}\")"
   ],
   "metadata": {
    "collapsed": false,
    "pycharm": {
     "name": "#%%\n"
    }
   }
  },
  {
   "cell_type": "markdown",
   "source": [
    "### 09. Multiplication table"
   ],
   "metadata": {
    "collapsed": false,
    "pycharm": {
     "name": "#%% md\n"
    }
   }
  },
  {
   "cell_type": "code",
   "execution_count": null,
   "outputs": [],
   "source": [
    "n = int(input(\"Enter an integer and see its multiplication table: \"))\n",
    "\n",
    "m1 = int(input(\"Initial multiplication number: \"))\n",
    "m2 = int(input(\"Final multiplication number: \"))\n",
    "\n",
    "i = 0\n",
    "print('=' * 12)\n",
    "while (m1 + i) <= m2:\n",
    "    f = m1 + i\n",
    "    r = n * f\n",
    "    i = i + 1\n",
    "    print('{} x {:2} = {}'.format(n, f, r))\n",
    "print('=' * 12)"
   ],
   "metadata": {
    "collapsed": false,
    "pycharm": {
     "name": "#%%\n"
    }
   }
  },
  {
   "cell_type": "markdown",
   "source": [
    "### 10. Real-dollar"
   ],
   "metadata": {
    "collapsed": false,
    "pycharm": {
     "name": "#%% md\n"
    }
   }
  },
  {
   "cell_type": "code",
   "execution_count": null,
   "outputs": [],
   "source": [
    "r = float(input('What is your equity in reais? R$'))\n",
    "d = int(r / 5.28)\n",
    "\n",
    "print(\"That's equal to: ${:.2f}\".format(d))"
   ],
   "metadata": {
    "collapsed": false,
    "pycharm": {
     "name": "#%%\n"
    }
   }
  },
  {
   "cell_type": "markdown",
   "source": [
    "### 11. Cost over area"
   ],
   "metadata": {
    "collapsed": false,
    "pycharm": {
     "name": "#%% md\n"
    }
   }
  },
  {
   "cell_type": "code",
   "execution_count": null,
   "outputs": [],
   "source": [
    "import math\n",
    "\n",
    "h = float(input(\"Enter the height of the wall (meters): \"))\n",
    "w = float(input(\"Now, its width: \"))\n",
    "pl = float(input(\"What's the price of a liter of paint? R$\"))\n",
    "sqm = float(input('How many square meters a liter of paint paints? '))\n",
    "\n",
    "area = h * w\n",
    "liters = math.ceil(area / sqm)\n",
    "price = liters * pl\n",
    "\n",
    "print(f\"\\nSquared meters: {area}\\nRequired liters: {liters}\\nPrice: R${price}\")"
   ],
   "metadata": {
    "collapsed": false,
    "pycharm": {
     "name": "#%%\n"
    }
   }
  },
  {
   "cell_type": "markdown",
   "source": [
    "### 12. Discount"
   ],
   "metadata": {
    "collapsed": false,
    "pycharm": {
     "name": "#%% md\n"
    }
   }
  },
  {
   "cell_type": "code",
   "execution_count": null,
   "outputs": [],
   "source": [
    "ip = float(input(\"Enter the initial price: \"))\n",
    "fp = ip - (ip * (5 / 100))\n",
    "\n",
    "print(\"With the discount, it costs: R${}\".format(fp))"
   ],
   "metadata": {
    "collapsed": false,
    "pycharm": {
     "name": "#%%\n"
    }
   }
  },
  {
   "cell_type": "markdown",
   "source": [
    "### 13. Salary increase"
   ],
   "metadata": {
    "collapsed": false,
    "pycharm": {
     "name": "#%% md\n"
    }
   }
  },
  {
   "cell_type": "code",
   "execution_count": null,
   "outputs": [],
   "source": [
    "s = float(input('Your monthly salary is: R$ '))\n",
    "\n",
    "ns = s + (s * 15 / 100)\n",
    "print('With the increase, it will be equal to: R${}'.format(ns))\n"
   ],
   "metadata": {
    "collapsed": false,
    "pycharm": {
     "name": "#%%\n"
    }
   }
  },
  {
   "cell_type": "markdown",
   "source": [
    "### 14. Temperature"
   ],
   "metadata": {
    "collapsed": false,
    "pycharm": {
     "name": "#%% md\n"
    }
   }
  },
  {
   "cell_type": "code",
   "execution_count": null,
   "outputs": [],
   "source": [
    "c = float(input('Enter the temperature in celsius: '))\n",
    "\n",
    "f = (1.8 * c) + 32\n",
    "k = c + 273\n",
    "\n",
    "print(f\"Fahrenheit: {f}\\nKelvin: {k}\")"
   ],
   "metadata": {
    "collapsed": false,
    "pycharm": {
     "name": "#%%\n"
    }
   }
  },
  {
   "cell_type": "markdown",
   "source": [
    "### 15. Car rent"
   ],
   "metadata": {
    "collapsed": false,
    "pycharm": {
     "name": "#%% md\n"
    }
   }
  },
  {
   "cell_type": "code",
   "execution_count": null,
   "outputs": [],
   "source": [
    "aKm = float(input('How many kilometers did the car run? '))\n",
    "aD = int(input('What is the duration (in days) of the rental? '))\n",
    "\n",
    "c = 60 * aD + 0.15 * aKm\n",
    "\n",
    "print(\"The service costs: R${:.2f}\".format(c))"
   ],
   "metadata": {
    "collapsed": false,
    "pycharm": {
     "name": "#%%\n"
    }
   }
  },
  {
   "cell_type": "markdown",
   "source": [
    "## Theory\n",
    "### Lining up"
   ],
   "metadata": {
    "collapsed": false,
    "pycharm": {
     "name": "#%% md\n"
    }
   }
  },
  {
   "cell_type": "code",
   "execution_count": null,
   "outputs": [],
   "source": [
    "name = input(\"What's your name? \")\n",
    "print('Nice to meet you, {}!'.format(name))\n",
    "print('Nice to meet you, {:20}!'.format(name))\n",
    "print('Nice to meet you, {:>20}!'.format(name))\n",
    "print('Nice to meet you, {:<20}!'.format(name))\n",
    "print('Nice to meet you, {:^20}!'.format(name))\n",
    "print('Nice to meet you, {:=^20}!'.format(name))"
   ],
   "metadata": {
    "collapsed": false,
    "pycharm": {
     "name": "#%%\n"
    }
   }
  },
  {
   "cell_type": "markdown",
   "source": [
    "### Arithmetic operators"
   ],
   "metadata": {
    "collapsed": false,
    "pycharm": {
     "name": "#%% md\n"
    }
   }
  },
  {
   "cell_type": "code",
   "execution_count": null,
   "outputs": [],
   "source": [
    "n1 = float(input(\"1°: \"))\n",
    "n2 = float(input(\"2°: \"))\n",
    "s = n1 + n2\n",
    "sub = n1 - n2\n",
    "m = n1 * n2\n",
    "div = n1 / n2\n",
    "exp = n1 ** n2\n",
    "exc_div = n1 // n2\n",
    "rest = n1 % n2\n",
    "print(\n",
    "    \"Sum = {} \\n\"\n",
    "    \"Subtraction = {} \\n\"\n",
    "    \"Multiplication = {} \\n\"\n",
    "    \"Division = {} \\n\"\n",
    "    \"Pow = {} \\n\"\n",
    "    \"Exact division = {} \\n\"\n",
    "    \"Rest = {} \\n\".format(s, sub, m, div, exp, exc_div, rest)\n",
    ")"
   ],
   "metadata": {
    "collapsed": false,
    "pycharm": {
     "name": "#%%\n"
    }
   }
  }
 ],
 "metadata": {
  "kernelspec": {
   "display_name": "Python 3",
   "language": "python",
   "name": "python3"
  },
  "language_info": {
   "codemirror_mode": {
    "name": "ipython",
    "version": 2
   },
   "file_extension": ".py",
   "mimetype": "text/x-python",
   "name": "python",
   "nbconvert_exporter": "python",
   "pygments_lexer": "ipython2",
   "version": "2.7.6"
  }
 },
 "nbformat": 4,
 "nbformat_minor": 0
}