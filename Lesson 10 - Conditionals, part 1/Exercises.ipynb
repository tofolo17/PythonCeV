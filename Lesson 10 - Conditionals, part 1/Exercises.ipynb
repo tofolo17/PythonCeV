{
 "cells": [
  {
   "cell_type": "markdown",
   "metadata": {
    "collapsed": true,
    "pycharm": {
     "name": "#%% md\n"
    }
   },
   "source": [
    "### 28. Divination"
   ]
  },
  {
   "cell_type": "code",
   "execution_count": null,
   "outputs": [],
   "source": [
    "from random import randint\n",
    "from time import sleep\n",
    "\n",
    "print('-=-' * 21)\n",
    "print(\"I will think in a number that is between 0 and 5. Try to guess it.\")\n",
    "print('-=-' * 21)\n",
    "user_attempt = int(input('What number did I think of? '))\n",
    "print('Processing...')\n",
    "sleep(2)\n",
    "if user_attempt == randint(0, 5):\n",
    "    print('Yeah. You did it!')\n",
    "else:\n",
    "    print(\"Try again!\")"
   ],
   "metadata": {
    "collapsed": false,
    "pycharm": {
     "name": "#%%\n"
    }
   }
  },
  {
   "cell_type": "markdown",
   "source": [
    "### 29. Traffic ticket"
   ],
   "metadata": {
    "collapsed": false,
    "pycharm": {
     "name": "#%% md\n"
    }
   }
  },
  {
   "cell_type": "code",
   "execution_count": null,
   "outputs": [],
   "source": [
    "vel = float(input('How many kilometers per hour was the driver? '))\n",
    "if vel > 80:\n",
    "    pm = (vel - 80) * 7\n",
    "    print('Traffic ticket: R${:.2f}'.format(pm))\n",
    "else:\n",
    "    print('No problem.')"
   ],
   "metadata": {
    "collapsed": false,
    "pycharm": {
     "name": "#%%\n"
    }
   }
  },
  {
   "cell_type": "markdown",
   "source": [
    "### 30. Even or odd"
   ],
   "metadata": {
    "collapsed": false,
    "pycharm": {
     "name": "#%% md\n"
    }
   }
  },
  {
   "cell_type": "code",
   "execution_count": null,
   "outputs": [],
   "source": [
    "n = int(input('Enter an integer: '))\n",
    "if (n % 2) == 0:\n",
    "    print('Even')\n",
    "else:\n",
    "    (print('Odd'))"
   ],
   "metadata": {
    "collapsed": false,
    "pycharm": {
     "name": "#%%\n"
    }
   }
  },
  {
   "cell_type": "markdown",
   "source": [
    "### 31. Ticket price"
   ],
   "metadata": {
    "collapsed": false,
    "pycharm": {
     "name": "#%% md\n"
    }
   }
  },
  {
   "cell_type": "code",
   "execution_count": null,
   "outputs": [],
   "source": [
    "d = int(input('Enter an integer: '))\n",
    "if d < 200:\n",
    "    p = d * 0.5\n",
    "else:\n",
    "    p = d * 0.45\n",
    "print(p)"
   ],
   "metadata": {
    "collapsed": false,
    "pycharm": {
     "name": "#%%\n"
    }
   }
  },
  {
   "cell_type": "markdown",
   "source": [
    "### 32. Leap year"
   ],
   "metadata": {
    "collapsed": false,
    "pycharm": {
     "name": "#%% md\n"
    }
   }
  },
  {
   "cell_type": "code",
   "execution_count": null,
   "outputs": [],
   "source": [
    "from datetime import date\n",
    "\n",
    "a = int(input('Enter a year: '))\n",
    "if a == 0:\n",
    "    a = date.today().year\n",
    "\n",
    "if a % 4 == 0:\n",
    "    print('Leap year')\n",
    "else:\n",
    "    print('Normal year')"
   ],
   "metadata": {
    "collapsed": false,
    "pycharm": {
     "name": "#%%\n"
    }
   }
  },
  {
   "cell_type": "markdown",
   "source": [
    "### 33. Which one is higher?"
   ],
   "metadata": {
    "collapsed": false,
    "pycharm": {
     "name": "#%% md\n"
    }
   }
  },
  {
   "cell_type": "code",
   "execution_count": null,
   "outputs": [],
   "source": [
    "list1 = []\n",
    "\n",
    "num = int(input(\"Enter the amount of numbers to be compare: \"))\n",
    "\n",
    "for i in range(1, num + 1):\n",
    "    n = int(input(\"Enter the {}° integer: \".format(i)))\n",
    "    list1.append(n)\n",
    "\n",
    "print(\"The higher number is:\", max(list1))\n",
    "print(\"The lower number is:\", min(list1))"
   ],
   "metadata": {
    "collapsed": false,
    "pycharm": {
     "name": "#%%\n"
    }
   }
  },
  {
   "cell_type": "markdown",
   "source": [
    "### 34. Triangles"
   ],
   "metadata": {
    "collapsed": false,
    "pycharm": {
     "name": "#%% md\n"
    }
   }
  },
  {
   "cell_type": "code",
   "execution_count": null,
   "outputs": [],
   "source": [
    "list1 = []\n",
    "\n",
    "i = 1\n",
    "while i < 4:\n",
    "    side = int(input(\"Enter the length of the {}° side (meters): \".format(i)))\n",
    "    list1.append(side)\n",
    "    i += 1\n",
    "a = int(list1[0])\n",
    "b = int(list1[1])\n",
    "c = int(list1[2])\n",
    "if (abs(b-c) < a < (b+c)) and (abs(a-c) < b < (a+c)) and (abs(a-b) < c < (a+b)):\n",
    "    print('Yeah, we can made it.')\n",
    "else:\n",
    "    print('No way.')"
   ],
   "metadata": {
    "collapsed": false,
    "pycharm": {
     "name": "#%%\n"
    }
   }
  },
  {
   "cell_type": "markdown",
   "source": [
    "### 35. Salary adjustment"
   ],
   "metadata": {
    "collapsed": false,
    "pycharm": {
     "name": "#%% md\n"
    }
   }
  },
  {
   "cell_type": "code",
   "execution_count": null,
   "outputs": [],
   "source": [
    "x = float(input(\"What is the employee's salary? R$\"))\n",
    "if x > 1250:\n",
    "    new_salary  = x * 1.1\n",
    "else:\n",
    "    new_salary = x * 1.15\n",
    "print('Who earned R${:.2f}, now earns R${:.2f}'.format(x, new_salary))"
   ],
   "metadata": {
    "collapsed": false,
    "pycharm": {
     "name": "#%%\n"
    }
   }
  }
 ],
 "metadata": {
  "kernelspec": {
   "display_name": "Python 3",
   "language": "python",
   "name": "python3"
  },
  "language_info": {
   "codemirror_mode": {
    "name": "ipython",
    "version": 2
   },
   "file_extension": ".py",
   "mimetype": "text/x-python",
   "name": "python",
   "nbconvert_exporter": "python",
   "pygments_lexer": "ipython2",
   "version": "2.7.6"
  }
 },
 "nbformat": 4,
 "nbformat_minor": 0
}