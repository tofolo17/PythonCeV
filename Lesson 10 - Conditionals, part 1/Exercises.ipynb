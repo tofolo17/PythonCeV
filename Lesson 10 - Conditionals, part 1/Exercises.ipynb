{
 "cells": [
  {
   "cell_type": "markdown",
   "metadata": {
    "collapsed": true,
    "pycharm": {
     "name": "#%% md\n"
    }
   },
   "source": [
    "### 28. Divination, part 1"
   ]
  },
  {
   "cell_type": "code",
   "execution_count": null,
   "outputs": [],
   "source": [
    "from random import randint\n",
    "from time import sleep\n",
    "\n",
    "user_attempt = int(input('I will think in a number that is between 0 and 5. Try to guess it: '))\n",
    "\n",
    "print('Processing...')\n",
    "sleep(2)\n",
    "\n",
    "if user_attempt == randint(0, 5):\n",
    "    print(\"Yeah. That's right!\")\n",
    "else:\n",
    "    print(\"Try again!\")"
   ],
   "metadata": {
    "collapsed": false,
    "pycharm": {
     "name": "#%%\n"
    }
   }
  },
  {
   "cell_type": "markdown",
   "source": [
    "### 29. Traffic ticket"
   ],
   "metadata": {
    "collapsed": false,
    "pycharm": {
     "name": "#%% md\n"
    }
   }
  },
  {
   "cell_type": "code",
   "execution_count": null,
   "outputs": [],
   "source": [
    "car_velocity = float(input('How many kilometers per hour was the driver? '))\n",
    "\n",
    "if car_velocity > 80:\n",
    "    tt_cost = (car_velocity - 80) * 7\n",
    "    print('Traffic ticket cost: R${:.2f}'.format(tt_cost))\n",
    "else:\n",
    "    print('No problem.')"
   ],
   "metadata": {
    "collapsed": false,
    "pycharm": {
     "name": "#%%\n"
    }
   }
  },
  {
   "cell_type": "markdown",
   "source": [
    "### 30. Even or odd"
   ],
   "metadata": {
    "collapsed": false,
    "pycharm": {
     "name": "#%% md\n"
    }
   }
  },
  {
   "cell_type": "code",
   "execution_count": null,
   "outputs": [],
   "source": [
    "int_input = int(input('Enter an integer: '))\n",
    "\n",
    "print(\"Even\") if (int_input % 2) == 0 else print(\"Odd\")"
   ],
   "metadata": {
    "collapsed": false,
    "pycharm": {
     "name": "#%%\n"
    }
   }
  },
  {
   "cell_type": "markdown",
   "source": [
    "### 31. Ticket price"
   ],
   "metadata": {
    "collapsed": false,
    "pycharm": {
     "name": "#%% md\n"
    }
   }
  },
  {
   "cell_type": "code",
   "execution_count": null,
   "outputs": [],
   "source": [
    "distance = int(input('How far is your trip (kilometers)? '))\n",
    "\n",
    "if distance < 200:\n",
    "    price = distance * 0.5\n",
    "else:\n",
    "    price = distance * 0.45\n",
    "\n",
    "print(f'Price: R${price:.2f}')"
   ],
   "metadata": {
    "collapsed": false,
    "pycharm": {
     "name": "#%%\n"
    }
   }
  },
  {
   "cell_type": "markdown",
   "source": [
    "### 32. Leap year"
   ],
   "metadata": {
    "collapsed": false,
    "pycharm": {
     "name": "#%% md\n"
    }
   }
  },
  {
   "cell_type": "code",
   "execution_count": null,
   "outputs": [],
   "source": [
    "from datetime import date\n",
    "\n",
    "year = int(input('Enter a year: '))\n",
    "if year == 0:\n",
    "    year = date.today().year\n",
    "\n",
    "if year % 4 == 0:\n",
    "    print('Leap year')\n",
    "else:\n",
    "    print('Normal year')"
   ],
   "metadata": {
    "collapsed": false,
    "pycharm": {
     "name": "#%%\n"
    }
   }
  },
  {
   "cell_type": "markdown",
   "source": [
    "### 33. Which one is higher?"
   ],
   "metadata": {
    "collapsed": false,
    "pycharm": {
     "name": "#%% md\n"
    }
   }
  },
  {
   "cell_type": "code",
   "execution_count": null,
   "outputs": [],
   "source": [
    "int_amount = int(input(\"Enter the amount of numbers to be compare: \"))\n",
    "\n",
    "int_list = []\n",
    "for integer in range(int_amount):\n",
    "    int_input = int(input(\"Enter the {}° integer: \".format(integer + 1)))\n",
    "    int_list.append(int_input)\n",
    "\n",
    "print(\"The higher number is:\", max(int_list))\n",
    "print(\"The lower number is:\", min(int_list))"
   ],
   "metadata": {
    "collapsed": false,
    "pycharm": {
     "name": "#%%\n"
    }
   }
  },
  {
   "cell_type": "markdown",
   "source": [
    "### 34. Triangles, part 1"
   ],
   "metadata": {
    "collapsed": false,
    "pycharm": {
     "name": "#%% md\n"
    }
   }
  },
  {
   "cell_type": "code",
   "execution_count": null,
   "outputs": [],
   "source": [
    "list1 = []\n",
    "for i in range(1, 4):\n",
    "    list1.append(int(input(\"Enter the length of the {}° side (meters): \".format(i))))\n",
    "\n",
    "a = int(list1[0])\n",
    "b = int(list1[1])\n",
    "c = int(list1[2])\n",
    "\n",
    "if (abs(b-c) < a < (b+c)) and (abs(a-c) < b < (a+c)) and (abs(a-b) < c < (a+b)):\n",
    "    print('Yeah, we can made it.')\n",
    "else:\n",
    "    print('No way.')"
   ],
   "metadata": {
    "collapsed": false,
    "pycharm": {
     "name": "#%%\n"
    }
   }
  },
  {
   "cell_type": "markdown",
   "source": [
    "### 35. Salary adjustment"
   ],
   "metadata": {
    "collapsed": false,
    "pycharm": {
     "name": "#%% md\n"
    }
   }
  },
  {
   "cell_type": "code",
   "execution_count": null,
   "outputs": [],
   "source": [
    "salary = float(input(\"Employee's salary: R$\"))\n",
    "\n",
    "if salary > 1250:\n",
    "    new_salary  = salary * 1.1\n",
    "else:\n",
    "    new_salary = salary * 1.15\n",
    "\n",
    "print('Who earned R${:.2f}, now earns R${:.2f}'.format(salary, new_salary))"
   ],
   "metadata": {
    "collapsed": false,
    "pycharm": {
     "name": "#%%\n"
    }
   }
  }
 ],
 "metadata": {
  "kernelspec": {
   "display_name": "Python 3",
   "language": "python",
   "name": "python3"
  },
  "language_info": {
   "codemirror_mode": {
    "name": "ipython",
    "version": 2
   },
   "file_extension": ".py",
   "mimetype": "text/x-python",
   "name": "python",
   "nbconvert_exporter": "python",
   "pygments_lexer": "ipython2",
   "version": "2.7.6"
  }
 },
 "nbformat": 4,
 "nbformat_minor": 0
}