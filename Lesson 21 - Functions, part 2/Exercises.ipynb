{
 "cells": [
  {
   "cell_type": "markdown",
   "metadata": {
    "collapsed": true,
    "pycharm": {
     "name": "#%% md\n"
    }
   },
   "source": [
    "### 101. Voting function"
   ]
  },
  {
   "cell_type": "code",
   "execution_count": null,
   "outputs": [],
   "source": [
    "def vote(age):\n",
    "    if (age >= 18) and (age < 70):\n",
    "        answer = f'Since you are {age}, you must vote.'\n",
    "    elif age <= 15:\n",
    "        answer = f'Since you are {age}, you should not vote.'\n",
    "    else:\n",
    "        answer = f'Since you are {age}, your vote is optional.'\n",
    "    return answer\n",
    "\n",
    "\n",
    "your_age = 18\n",
    "print(vote(your_age))"
   ],
   "metadata": {
    "collapsed": false,
    "pycharm": {
     "name": "#%%\n"
    }
   }
  },
  {
   "cell_type": "markdown",
   "source": [
    "### 102. Factorial function"
   ],
   "metadata": {
    "collapsed": false,
    "pycharm": {
     "name": "#%% md\n"
    }
   }
  },
  {
   "cell_type": "code",
   "execution_count": null,
   "outputs": [],
   "source": [
    "def factorial(number):\n",
    "    answer = 1\n",
    "    for i in range(number, 0, -1):\n",
    "        print(i, end=\" \")\n",
    "        answer *= i\n",
    "    print(f'= {answer}')\n",
    "\n",
    "\n",
    "factorial(4)"
   ],
   "metadata": {
    "collapsed": false,
    "pycharm": {
     "name": "#%%\n"
    }
   }
  },
  {
   "cell_type": "markdown",
   "source": [
    "### 103. Player card"
   ],
   "metadata": {
    "collapsed": false,
    "pycharm": {
     "name": "#%% md\n"
    }
   }
  },
  {
   "cell_type": "code",
   "execution_count": null,
   "outputs": [],
   "source": [
    "def valid(name=None, goals=None):\n",
    "    if name == \"\":\n",
    "        name = '<Unknown>'\n",
    "    if not goals.isnumeric():\n",
    "        goals = '0'\n",
    "    return f'Player: {name} | Goals: {goals}'\n",
    "\n",
    "\n",
    "print(\n",
    "    valid(\n",
    "        input(\"Player's name: \").title().strip(),\n",
    "        input(f'Goals: ')\n",
    "    )\n",
    ")"
   ],
   "metadata": {
    "collapsed": false,
    "pycharm": {
     "name": "#%%\n"
    }
   }
  },
  {
   "cell_type": "markdown",
   "source": [
    "### 104. Input validation"
   ],
   "metadata": {
    "collapsed": false,
    "pycharm": {
     "name": "#%% md\n"
    }
   }
  },
  {
   "cell_type": "code",
   "execution_count": null,
   "outputs": [],
   "source": [
    "def read_int(message):\n",
    "    while True:\n",
    "        v = input(message)\n",
    "        if not v.isnumeric():\n",
    "            print(\"Error. Try again: \")\n",
    "        else:\n",
    "            break\n",
    "    return v\n",
    "\n",
    "\n",
    "n = read_int('Enter an integer: ')"
   ],
   "metadata": {
    "collapsed": false,
    "pycharm": {
     "name": "#%%\n"
    }
   }
  },
  {
   "cell_type": "markdown",
   "source": [
    "### 106. Help center"
   ],
   "metadata": {
    "collapsed": false,
    "pycharm": {
     "name": "#%% md\n"
    }
   }
  },
  {
   "cell_type": "code",
   "execution_count": null,
   "outputs": [],
   "source": [
    "def helper(command):\n",
    "    help(command)\n",
    "\n",
    "\n",
    "while True:\n",
    "    doubt = input('Function or library: ').lower()\n",
    "    helper(doubt)"
   ],
   "metadata": {
    "collapsed": false,
    "pycharm": {
     "name": "#%%\n"
    }
   }
  }
 ],
 "metadata": {
  "kernelspec": {
   "display_name": "Python 3",
   "language": "python",
   "name": "python3"
  },
  "language_info": {
   "codemirror_mode": {
    "name": "ipython",
    "version": 2
   },
   "file_extension": ".py",
   "mimetype": "text/x-python",
   "name": "python",
   "nbconvert_exporter": "python",
   "pygments_lexer": "ipython2",
   "version": "2.7.6"
  }
 },
 "nbformat": 4,
 "nbformat_minor": 0
}