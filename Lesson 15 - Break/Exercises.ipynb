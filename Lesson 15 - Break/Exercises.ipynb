{
 "cells": [
  {
   "cell_type": "markdown",
   "metadata": {
    "collapsed": true,
    "pycharm": {
     "name": "#%% md\n"
    }
   },
   "source": [
    "### 67. Multiplication table, part 2"
   ]
  },
  {
   "cell_type": "code",
   "execution_count": null,
   "outputs": [],
   "source": [
    "while True:\n",
    "    int_input = int(input(\"Enter an integer and see its multiplication table: \"))\n",
    "\n",
    "    fst_multiplier = int(input(\"Starting multiplier integer: \"))\n",
    "    lst_multiplier = int(input(\"Final multiplier integer: \"))\n",
    "\n",
    "    for multiplier in range(fst_multiplier, lst_multiplier + 1):\n",
    "        print(f'{int_input} X {multiplier} = {int_input * multiplier}')\n",
    "\n",
    "    option = input('Would you like to continue? [Y/N] ').upper()\n",
    "    if option == 'Y':\n",
    "        continue\n",
    "    else:\n",
    "        break"
   ],
   "metadata": {
    "collapsed": false,
    "pycharm": {
     "name": "#%%\n"
    }
   }
  },
  {
   "cell_type": "markdown",
   "source": [
    "### 68. Even or odd, game"
   ],
   "metadata": {
    "collapsed": false,
    "pycharm": {
     "name": "#%% md\n"
    }
   }
  },
  {
   "cell_type": "code",
   "execution_count": null,
   "outputs": [],
   "source": [
    "from random import randint\n",
    "\n",
    "option = \" \"\n",
    "while True:\n",
    "    cpu_choice = randint(1, 10)\n",
    "    user_choice = int(input('Enter an integer that is between 1 and 10 (0 to stop): '))\n",
    "    if user_choice != 0:\n",
    "        value = cpu_choice + user_choice\n",
    "        while option not in 'EO':\n",
    "            option = input('Even or odd? [E/O] ').upper().strip()\n",
    "        if (option == 'E' and value % 2 == 0) or (option == 'O' and value % 2 == 1):\n",
    "            print(f\"{cpu_choice} + {user_choice} = {value} || You won.\")\n",
    "        else:\n",
    "            print(f\"{cpu_choice} + {user_choice} = {value} || I won.\")\n",
    "    else:\n",
    "        break"
   ],
   "metadata": {
    "collapsed": false,
    "pycharm": {
     "name": "#%%\n"
    }
   }
  },
  {
   "cell_type": "markdown",
   "source": [
    "### 69. Group analysis"
   ],
   "metadata": {
    "collapsed": false,
    "pycharm": {
     "name": "#%% md\n"
    }
   }
  },
  {
   "cell_type": "code",
   "execution_count": null,
   "outputs": [],
   "source": [
    "\n",
    "data = {}\n",
    "while True:\n",
    "    name = input('Name: ')\n",
    "    age = int(input('Age: '))\n",
    "    gender = input('Gender [M/F]: ').upper()\n",
    "    person_info = [age, gender]\n",
    "    data[name] = person_info\n",
    "    option = input(\"Would you like to continue? [Y/N]\").upper()\n",
    "    if option != \"Y\":\n",
    "        break\n",
    "\n",
    "average_age = sum([info[0] for info in list(data.values())]) / len(list(data.values()))\n",
    "print(f'{average_age:.2f}')\n",
    "\n",
    "ages = [info[0] for info in list(data.values())]\n",
    "oldest_man = list(data.keys())[ages.index(max(ages))]\n",
    "print(f'{oldest_man}')\n",
    "\n",
    "young_girls = len([info for info in list(data.values()) if info[0] < 20 and info[1] == \"F\"])\n",
    "print(f'{young_girls:.2f}')"
   ],
   "metadata": {
    "collapsed": false,
    "pycharm": {
     "name": "#%%\n"
    }
   }
  },
  {
   "cell_type": "markdown",
   "source": [
    "### 70. Product statistics"
   ],
   "metadata": {
    "collapsed": false,
    "pycharm": {
     "name": "#%% md\n"
    }
   }
  },
  {
   "cell_type": "code",
   "execution_count": null,
   "outputs": [],
   "source": [
    "price_list = []\n",
    "while True:\n",
    "    name = input('Product name: ').strip()\n",
    "    price = float(input('Price: R$ '))\n",
    "    price_list.append(price)\n",
    "    option = input('Would you like to continue? [Y/N]').upper().strip()\n",
    "    if option != 'Y':\n",
    "        break\n",
    "\n",
    "print(sum(price_list))\n",
    "print(min(price_list))\n",
    "print(len([price for price in price_list if price > 1000]))"
   ],
   "metadata": {
    "collapsed": false,
    "pycharm": {
     "name": "#%%\n"
    }
   }
  },
  {
   "cell_type": "markdown",
   "source": [
    "### 71. ATM simulator"
   ],
   "metadata": {
    "collapsed": false,
    "pycharm": {
     "name": "#%% md\n"
    }
   }
  },
  {
   "cell_type": "code",
   "execution_count": null,
   "outputs": [],
   "source": [
    "money = int(input(\"Amount of money: R$\"))\n",
    "\n",
    "banknotes_dict = {\n",
    "    100: lambda x: x // 100,\n",
    "    50: lambda x: x // 50,\n",
    "    20: lambda x: x // 20,\n",
    "    10: lambda x: x // 10,\n",
    "    5: lambda x: x // 5,\n",
    "    2: lambda x: x // 2,\n",
    "    1: lambda x: x // 1\n",
    "}\n",
    "\n",
    "for k, v in banknotes_dict.items():\n",
    "    banknotes = v(money)\n",
    "    money %= k\n",
    "    print(f'Banknotes of R${k:<10} {banknotes}')"
   ],
   "metadata": {
    "collapsed": false,
    "pycharm": {
     "name": "#%%\n"
    }
   }
  }
 ],
 "metadata": {
  "kernelspec": {
   "display_name": "Python 3",
   "language": "python",
   "name": "python3"
  },
  "language_info": {
   "codemirror_mode": {
    "name": "ipython",
    "version": 2
   },
   "file_extension": ".py",
   "mimetype": "text/x-python",
   "name": "python",
   "nbconvert_exporter": "python",
   "pygments_lexer": "ipython2",
   "version": "2.7.6"
  }
 },
 "nbformat": 4,
 "nbformat_minor": 0
}
