{
 "cells": [
  {
   "cell_type": "markdown",
   "metadata": {
    "collapsed": true,
    "pycharm": {
     "name": "#%% md\n"
    }
   },
   "source": [
    "### 36. Approving loan"
   ]
  },
  {
   "cell_type": "code",
   "execution_count": null,
   "outputs": [],
   "source": [
    "house_value = float(input('House value: R$'))\n",
    "salary_value = float(input('Your monthly salary: R$'))\n",
    "years_to_pay = int(input('Years to pay it: R$'))\n",
    "\n",
    "installment_value = house_value / (years_to_pay  * 12)\n",
    "if installment_value > 0.3 * salary_value:\n",
    "    print(\n",
    "        f\"The installment price would be equal to R${installment_value:.2f}, but as\"\n",
    "        \" this is more than 30% of your salary, you'll not get it\"\n",
    "    )\n",
    "else:\n",
    "    print('Yeah. Approved.')"
   ],
   "metadata": {
    "collapsed": false,
    "pycharm": {
     "name": "#%%\n"
    }
   }
  },
  {
   "cell_type": "markdown",
   "source": [
    "### 37. Number bases converter"
   ],
   "metadata": {
    "collapsed": false,
    "pycharm": {
     "name": "#%% md\n"
    }
   }
  },
  {
   "cell_type": "code",
   "execution_count": null,
   "outputs": [],
   "source": [
    "int_input = int(input('Enter an integer: '))\n",
    "\n",
    "\"\"\"\n",
    "print('[1] - BINARY')\n",
    "print('[2] - OCTAL')\n",
    "print('[3] - HEXADECIMAL')\n",
    "\"\"\"\n",
    "\n",
    "opt = int(input('Your option: '))\n",
    "if opt == 1:\n",
    "    print(bin(int_input)[2:])\n",
    "elif opt == 2:\n",
    "    print(oct(int_input)[2:])\n",
    "elif opt == 3:\n",
    "    print(hex(int_input)[2:])\n",
    "else:\n",
    "    print('Invalid.')"
   ],
   "metadata": {
    "collapsed": false,
    "pycharm": {
     "name": "#%%\n"
    }
   }
  },
  {
   "cell_type": "markdown",
   "source": [
    "### 38. Comparing two numbers"
   ],
   "metadata": {
    "collapsed": false,
    "pycharm": {
     "name": "#%% md\n"
    }
   }
  },
  {
   "cell_type": "code",
   "execution_count": null,
   "outputs": [],
   "source": [
    "float_1 = float(input('Enter a number: '))\n",
    "float_2 = float(input('Enter another number: '))\n",
    "\n",
    "if float_1 > float_2:\n",
    "    print('First is higher.')\n",
    "elif float_1 < float_2:\n",
    "    print('Second is higher.')\n",
    "else:\n",
    "    print('They are the same.')"
   ],
   "metadata": {
    "collapsed": false,
    "pycharm": {
     "name": "#%%\n"
    }
   }
  },
  {
   "cell_type": "markdown",
   "source": [
    "### 39. Military enlistment"
   ],
   "metadata": {
    "collapsed": false,
    "pycharm": {
     "name": "#%% md\n"
    }
   }
  },
  {
   "cell_type": "code",
   "execution_count": null,
   "outputs": [],
   "source": [
    "from datetime import date\n",
    "\n",
    "month = int(input('Month: '))\n",
    "day = int(input('Day: '))\n",
    "year = int(input('Year: '))\n",
    "birthdate = date(year, month, day)\n",
    "\n",
    "def calculate_age(born):\n",
    "    today = date.today()\n",
    "    return today.year - born.year - ((today.month, today.day) < (born.month, born.day))\n",
    "\n",
    "age = calculate_age(birthdate)\n",
    "if age == 18:\n",
    "    print(\"You must do your enlistment this year\")\n",
    "elif age > 18:\n",
    "    print(\"You should have already done this\")\n",
    "else:\n",
    "    print(\"Don't worry. You do not need to this right now.\")"
   ],
   "metadata": {
    "collapsed": false,
    "pycharm": {
     "name": "#%%\n"
    }
   }
  },
  {
   "cell_type": "markdown",
   "source": [
    "### 40. Average grade"
   ],
   "metadata": {
    "collapsed": false,
    "pycharm": {
     "name": "#%% md\n"
    }
   }
  },
  {
   "cell_type": "code",
   "execution_count": null,
   "outputs": [],
   "source": [
    "import sys\n",
    "\n",
    "test_amount = int(input('Amount of tests: '))\n",
    "\n",
    "i = 1\n",
    "grades = []\n",
    "while i < (test_amount + 1):\n",
    "    grade = float(input('{}° grade: '.format(i)))\n",
    "    if grade > 10:\n",
    "        resp = input('That grade does not exist. Would you like to try again? (Y/N)?')\n",
    "        if resp == 'Y':\n",
    "            continue\n",
    "        else:\n",
    "            sys.exit()\n",
    "    else:\n",
    "        grades.append(grade)\n",
    "        i += 1\n",
    "\n",
    "average = sum(grades)/len(grades)\n",
    "if average < 5:\n",
    "    print(f'You failed ! {average:.2f}')\n",
    "elif average > 6.9:\n",
    "    print(f'Approved! {average:.2f}')\n",
    "else:\n",
    "    print(f'Summer School! {average:.2f}')  # equivalent to \"recuperação\""
   ],
   "metadata": {
    "collapsed": false,
    "pycharm": {
     "name": "#%%\n"
    }
   }
  },
  {
   "cell_type": "markdown",
   "source": [
    "### 41. Athlete classification"
   ],
   "metadata": {
    "collapsed": false,
    "pycharm": {
     "name": "#%% md\n"
    }
   }
  },
  {
   "cell_type": "code",
   "execution_count": null,
   "outputs": [],
   "source": [
    "from datetime import date\n",
    "\n",
    "month = int(input('Month: '))\n",
    "day = int(input('Day: '))\n",
    "year = int(input('Year: '))\n",
    "birthdate = date(year, month, day)\n",
    "\n",
    "def calculate_age(born):\n",
    "    today = date.today()\n",
    "    return today.year - born.year - ((today.month, today.day) < (born.month, born.day))\n",
    "\n",
    "age = calculate_age(birthdate)\n",
    "if age <= 9:\n",
    "    classification = \"MIRIM\"\n",
    "elif age <= 14:\n",
    "    classification = \"INFANTIL\"\n",
    "elif age <= 19:\n",
    "    classification = \"JUNIOR\"\n",
    "elif age <= 25:\n",
    "    classification = \"SENIOR\"\n",
    "else:\n",
    "    classification = \"MASTER\"\n",
    "\n",
    "print(f'As your age is equal to {age}. You are a {classification} athlete')"
   ],
   "metadata": {
    "collapsed": false,
    "pycharm": {
     "name": "#%%\n"
    }
   }
  },
  {
   "cell_type": "markdown",
   "source": [
    "### 42. Triangles, part 2"
   ],
   "metadata": {
    "collapsed": false,
    "pycharm": {
     "name": "#%% md\n"
    }
   }
  },
  {
   "cell_type": "code",
   "execution_count": null,
   "outputs": [],
   "source": [
    "sides = []\n",
    "for i in range(1, 4):\n",
    "    sides.append(float(input('Enter the length of the {}° size: '.format(i))))\n",
    "unique_sides = set(sides)\n",
    "\n",
    "if len(unique_sides) == 1:\n",
    "    triangle = \"equilateral\"\n",
    "elif len(unique_sides) == 3:\n",
    "    triangle = \"scalene\"\n",
    "else:\n",
    "    triangle = \"isosceles\"\n",
    "\n",
    "print(f\"The triangle is {triangle}\")"
   ],
   "metadata": {
    "collapsed": false,
    "pycharm": {
     "name": "#%%\n"
    }
   }
  },
  {
   "cell_type": "markdown",
   "source": [
    "### 43. BMI"
   ],
   "metadata": {
    "collapsed": false,
    "pycharm": {
     "name": "#%% md\n"
    }
   }
  },
  {
   "cell_type": "code",
   "execution_count": null,
   "outputs": [],
   "source": [
    "height = float(input('Your height (meters): '))\n",
    "weight = float(input('Your mass (kg): '))\n",
    "\n",
    "imc_dict = {\n",
    "    \"Obesity\": lambda x: x > 30,\n",
    "    \"Overweight\": lambda x: x > 25,\n",
    "    \"Normal weight\": lambda x: x > 18.5,\n",
    "    \"Low weight\": lambda x: x < 18.5\n",
    "}\n",
    "imc = weight / (height ** 2)\n",
    "ideal_weight = 21.75 * height ** 2\n",
    "\n",
    "for k, v in imc_dict.items():\n",
    "    if v(imc):\n",
    "        print(\n",
    "            f\"IMC: {imc:.2f} || {k}\\n\"\n",
    "            f\"Ideal weight: {ideal_weight:.2f}kg.\"\n",
    "        )\n",
    "        break"
   ],
   "metadata": {
    "collapsed": false,
    "pycharm": {
     "name": "#%%\n"
    }
   }
  },
  {
   "cell_type": "markdown",
   "source": [
    "### 44. Payment manager"
   ],
   "metadata": {
    "collapsed": false,
    "pycharm": {
     "name": "#%% md\n"
    }
   }
  },
  {
   "cell_type": "code",
   "execution_count": null,
   "outputs": [],
   "source": [
    "initial_price = float(input('Amount to be paid: R$'))\n",
    "\n",
    "\"\"\"\n",
    "print('[1] - in cash')\n",
    "print('[2] - on the card')\n",
    "print('[3] - 2x on the card')\n",
    "print('[4] - 3x or more on the card')\n",
    "\"\"\"\n",
    "\n",
    "option = int(input('Your option: '))\n",
    "if option == 1:\n",
    "    final_price = initial_price * 0.9\n",
    "    print('You will need to pay: R${}'.format(final_price))\n",
    "elif option == 2:\n",
    "    final_price = initial_price * 0.95\n",
    "    print('You will need to pay: R${}'.format(final_price))\n",
    "elif option == 3:\n",
    "    final_price = initial_price / 2\n",
    "    print('Each installment has a value of: R${}'.format(final_price))\n",
    "elif option == 4:\n",
    "    installments = int(input('How many installment? '))\n",
    "    while installments < 3:\n",
    "        print('This value is invalid. Try again.')\n",
    "        installments = int(input('How many installment? '))\n",
    "    final_price = (initial_price * 1.2) / installments\n",
    "    print('Each installment has a value of: R${}'.format(final_price))\n",
    "else:\n",
    "    print('Invalid.')"
   ],
   "metadata": {
    "collapsed": false,
    "pycharm": {
     "name": "#%%\n"
    }
   }
  },
  {
   "cell_type": "markdown",
   "source": [
    "### 45. Rock Paper Scissors"
   ],
   "metadata": {
    "collapsed": false,
    "pycharm": {
     "name": "#%% md\n"
    }
   }
  },
  {
   "cell_type": "code",
   "source": [
    "from random import choice\n",
    "\n",
    "game_choices = [\"rock\", \"paper\", \"scissors\"]\n",
    "\n",
    "user_action = \"\"\n",
    "while user_action not in game_choices:\n",
    "    user_action = input('Rock, paper or scissors? ').strip().lower()\n",
    "computer_action = choice(game_choices)\n",
    "\n",
    "if user_action == computer_action:\n",
    "    print(f\"Both players selected {user_action}. It's a tie!\")\n",
    "elif user_action == \"rock\":\n",
    "    if computer_action == \"scissors\":\n",
    "        print(\"Rock smashes scissors! You win!\")\n",
    "    else:\n",
    "        print(\"Paper covers rock! You lose.\")\n",
    "elif user_action == \"paper\":\n",
    "    if computer_action == \"rock\":\n",
    "        print(\"Paper covers rock! You win!\")\n",
    "    else:\n",
    "        print(\"Scissors cuts paper! You lose.\")\n",
    "else:\n",
    "    if computer_action == \"paper\":\n",
    "        print(\"Scissors cuts paper! You win!\")\n",
    "    else:\n",
    "        print(\"Rock smashes scissors! You lose.\")"
   ],
   "metadata": {
    "collapsed": false,
    "pycharm": {
     "name": "#%%\n"
    }
   },
   "execution_count": null,
   "outputs": []
  }
 ],
 "metadata": {
  "kernelspec": {
   "display_name": "Python 3",
   "language": "python",
   "name": "python3"
  },
  "language_info": {
   "codemirror_mode": {
    "name": "ipython",
    "version": 2
   },
   "file_extension": ".py",
   "mimetype": "text/x-python",
   "name": "python",
   "nbconvert_exporter": "python",
   "pygments_lexer": "ipython2",
   "version": "2.7.6"
  }
 },
 "nbformat": 4,
 "nbformat_minor": 0
}