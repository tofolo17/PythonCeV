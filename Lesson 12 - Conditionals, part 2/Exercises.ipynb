{
 "cells": [
  {
   "cell_type": "markdown",
   "metadata": {
    "collapsed": true,
    "pycharm": {
     "name": "#%% md\n"
    }
   },
   "source": [
    "### 36. Approving loan"
   ]
  },
  {
   "cell_type": "code",
   "execution_count": null,
   "outputs": [],
   "source": [
    "house_value = float(input('House value: R$'))\n",
    "salary_value = float(input('Your monthly salary: R$'))\n",
    "\n",
    "years = int(input('Years to pay it: R$'))\n",
    "pm = house_value / (years * 12)\n",
    "\n",
    "if pm > 0.3 * salary_value:\n",
    "    print(\n",
    "        f\"The monthly loan amount would be equal to R${pm:.2f}, but as\"\n",
    "        \" this is more than 30% of your salary, you'll not get it\"\n",
    "    )\n",
    "else:\n",
    "    print('Yeah. Approved.')"
   ],
   "metadata": {
    "collapsed": false,
    "pycharm": {
     "name": "#%%\n"
    }
   }
  },
  {
   "cell_type": "markdown",
   "source": [
    "### 37. Number bases converter"
   ],
   "metadata": {
    "collapsed": false,
    "pycharm": {
     "name": "#%% md\n"
    }
   }
  },
  {
   "cell_type": "code",
   "execution_count": null,
   "outputs": [],
   "source": [
    "n = int(input('Enter an integer: '))\n",
    "\n",
    "print('[1] - BINARY')\n",
    "print('[2] - OCTAL')\n",
    "print('[3] - HEXADECIMAL')\n",
    "\n",
    "opt = int(input('Your option: '))\n",
    "if opt == 1:\n",
    "    print(bin(n)[2:])\n",
    "elif opt == 2:\n",
    "    print(oct(n)[2:])\n",
    "elif opt == 3:\n",
    "    print(hex(n)[2:])\n",
    "else:\n",
    "    print('Invalid.')"
   ],
   "metadata": {
    "collapsed": false,
    "pycharm": {
     "name": "#%%\n"
    }
   }
  },
  {
   "cell_type": "markdown",
   "source": [
    "### 38. Comparing two numbers"
   ],
   "metadata": {
    "collapsed": false,
    "pycharm": {
     "name": "#%% md\n"
    }
   }
  },
  {
   "cell_type": "code",
   "execution_count": null,
   "outputs": [],
   "source": [
    "n1 = float(input('Enter an integer: '))\n",
    "n2 = float(input('Enter another integer: '))\n",
    "\n",
    "if n1 > n2:\n",
    "    print('First is higher.')\n",
    "elif n1 < n2:\n",
    "    print('Second is higher.')\n",
    "else:\n",
    "    print('They are the same.')"
   ],
   "metadata": {
    "collapsed": false,
    "pycharm": {
     "name": "#%%\n"
    }
   }
  },
  {
   "cell_type": "markdown",
   "source": [
    "### 39. Military enlistment"
   ],
   "metadata": {
    "collapsed": false,
    "pycharm": {
     "name": "#%% md\n"
    }
   }
  },
  {
   "cell_type": "code",
   "execution_count": null,
   "outputs": [],
   "source": [
    "from datetime import date\n",
    "\n",
    "day = int(input('Day: '))\n",
    "month = int(input('Month: '))\n",
    "year = int(input('Year: '))\n",
    "\n",
    "date_btd = date(year, month, day)\n",
    "date_now = date.today()\n",
    "age = (date_now - date_btd) / 365.25\n",
    "int_age = int(age.days)\n",
    "\n",
    "if int_age < 18:\n",
    "    years_to = 18 - int_age\n",
    "    enlistment_year_to = date.today().year + years_to\n",
    "    print(\"You don't have to do that now, just in {}.\".format(enlistment_year_to))\n",
    "elif int_age > 18:\n",
    "    years_ago = int_age - 18\n",
    "    enlistment_year_ago = date.today().year - years_ago\n",
    "    print('You should have done this in {}.'.format(enlistment_year_ago))\n",
    "elif (int_age == 18) and (date.today().year - year == int_age):\n",
    "    print(\"You'll need to do this in the next year.\")\n",
    "elif (int_age == 18) and (date.today().year - year == int_age + 1) and date.today().month > 2:\n",
    "    print('You should have shown up at the beginning of the year.')\n",
    "else:\n",
    "    print('Do it RIGHT NOW!')"
   ],
   "metadata": {
    "collapsed": false,
    "pycharm": {
     "name": "#%%\n"
    }
   }
  },
  {
   "cell_type": "markdown",
   "source": [
    "### 40. Average grade"
   ],
   "metadata": {
    "collapsed": false,
    "pycharm": {
     "name": "#%% md\n"
    }
   }
  },
  {
   "cell_type": "code",
   "execution_count": null,
   "outputs": [],
   "source": [
    "i = 1\n",
    "notes = []\n",
    "\n",
    "a = int(input('Amount of tests: '))\n",
    "\n",
    "while i < (a + 1):\n",
    "    n = float(input('{}° grade: '.format(i)))\n",
    "    if n > 10:\n",
    "        print('That grade does not exist. Would you like to try it again? (Y/N)?')\n",
    "        resp = input(''.upper())\n",
    "        if resp == 'Y':\n",
    "            continue\n",
    "        else:\n",
    "            exit()\n",
    "    else:\n",
    "        notes.append(n)\n",
    "        i += 1\n",
    "\n",
    "average = 0\n",
    "for n in notes:\n",
    "    average = sum(notes)/len(notes)\n",
    "if average < 5:\n",
    "    print(f'You failed ! {average:.2f}')\n",
    "elif average > 6.9:\n",
    "    print(f'Approved! {average:.2f}')\n",
    "else:\n",
    "    print(f'Summer School! {average:.2f}')  # equivalent to \"recuperação\""
   ],
   "metadata": {
    "collapsed": false,
    "pycharm": {
     "name": "#%%\n"
    }
   }
  },
  {
   "cell_type": "markdown",
   "source": [
    "### 41. Athlete classification"
   ],
   "metadata": {
    "collapsed": false,
    "pycharm": {
     "name": "#%% md\n"
    }
   }
  },
  {
   "cell_type": "code",
   "execution_count": null,
   "outputs": [],
   "source": [
    "from datetime import date\n",
    "\n",
    "day = int(input('Day: '))\n",
    "month = int(input('Month: '))\n",
    "year = int(input('Year: '))\n",
    "\n",
    "date_btd = date(year, month, day)\n",
    "date_now = date.today()\n",
    "age = (date_now - date_btd) / 365.25\n",
    "int_age = int(age.days)\n",
    "\n",
    "if int_age <= 9:\n",
    "    classification = \"MIRIM\"\n",
    "elif int_age <= 14:\n",
    "    classification = \"INFANTIL\"\n",
    "elif int_age <= 19:\n",
    "    classification = \"JUNIOR\"\n",
    "elif int_age <= 25:\n",
    "    classification = \"SÊNIOR\"\n",
    "else:\n",
    "    classification = \"MASTER\"\n",
    "\n",
    "print(f'As your age is equals to {int_age}. You are a {classification} athlete')"
   ],
   "metadata": {
    "collapsed": false,
    "pycharm": {
     "name": "#%%\n"
    }
   }
  },
  {
   "cell_type": "markdown",
   "source": [
    "### 42. Triangles, part 2"
   ],
   "metadata": {
    "collapsed": false,
    "pycharm": {
     "name": "#%% md\n"
    }
   }
  },
  {
   "cell_type": "code",
   "execution_count": null,
   "outputs": [],
   "source": [
    "sides = []\n",
    "\n",
    "i = 1\n",
    "while i < 4:\n",
    "    side = float(input('Enter the length of the {}° size: '.format(i)))\n",
    "    sides.append(side)\n",
    "    i += 1\n",
    "\n",
    "if int(sides[0]) == int(sides[1]) == int(sides[2]):\n",
    "    triangle = \"equilateral\"\n",
    "elif int(sides[0]) != int(sides[1]) != int(sides[2]):\n",
    "    triangle = \"scalene\"\n",
    "else:\n",
    "    triangle = \"isosceles\"\n",
    "print(f\"The triangle is {triangle}\")"
   ],
   "metadata": {
    "collapsed": false,
    "pycharm": {
     "name": "#%%\n"
    }
   }
  },
  {
   "cell_type": "markdown",
   "source": [
    "### 43. BMI"
   ],
   "metadata": {
    "collapsed": false,
    "pycharm": {
     "name": "#%% md\n"
    }
   }
  },
  {
   "cell_type": "code",
   "execution_count": null,
   "outputs": [],
   "source": [
    "alt = float(input('Your height (meters): '))\n",
    "weight = float(input('Your mass (kg): '))\n",
    "\n",
    "imc = weight / (alt * alt)\n",
    "if imc <= 18.5:\n",
    "    ideal_weight = 18.51 * (alt * alt)\n",
    "    fatten = ideal_weight - weight\n",
    "    print(\n",
    "        f'Your BMI: {imc:.2f}. You are underweight and need to put on {fatten:.2f}kg'\n",
    "    )\n",
    "elif imc <= 25:\n",
    "    print(\n",
    "        f'Your BMI: {imc:.2f}. You have a great weight!'\n",
    "    )\n",
    "elif imc <= 30:\n",
    "    ideal_weight = 25 * alt ** 2\n",
    "    lose_weight = weight - ideal_weight\n",
    "    print(\n",
    "         f'Your BMI: {imc:.2f}. You are overweight and need to lose {lose_weight:.2f}kg'\n",
    "    )\n",
    "elif imc <= 40:\n",
    "    ideal_weight = 25 * (alt * alt)\n",
    "    lose_weight = weight - ideal_weight\n",
    "    print(\n",
    "         f'Your BMI: {imc:.2f}. You are way overweight and need to lose {lose_weight:.2f}kg'\n",
    "    )\n",
    "else:\n",
    "    ideal_weight = 25 * (alt * alt)\n",
    "    lose_weight = weight - ideal_weight\n",
    "    print(\n",
    "         f\"Your BMI: {imc:.2f}. That's dangerous... Lose {lose_weight:.2f}kg as soon as possible.\"\n",
    "    )"
   ],
   "metadata": {
    "collapsed": false,
    "pycharm": {
     "name": "#%%\n"
    }
   }
  },
  {
   "cell_type": "markdown",
   "source": [
    "### 44. Payment manager"
   ],
   "metadata": {
    "collapsed": false,
    "pycharm": {
     "name": "#%% md\n"
    }
   }
  },
  {
   "cell_type": "code",
   "execution_count": null,
   "outputs": [],
   "source": [
    "value = float(input('Amount to be paid: R$'))\n",
    "\n",
    "print('PAYMENT METHODS')\n",
    "print('[1] in cash')\n",
    "print('[2] on the card')\n",
    "print('[3] 2x on the card')\n",
    "print('[4] 3x or more on the card')\n",
    "\n",
    "option = int(input('Your option: '))\n",
    "if option == 1:\n",
    "    value_to_pay = value - (value * 10/100)\n",
    "    print('You will need to pay: R${}'.format(value_to_pay))\n",
    "elif option == 2:\n",
    "    value_to_pay = value - (value * 5 / 100)\n",
    "    print('You will need to pay: R${}'.format(value_to_pay))\n",
    "elif option == 3:\n",
    "    value_to_pay = value / 2\n",
    "    print('Each parcel has a value of: R${}'.format(value_to_pay))\n",
    "elif option == 4:\n",
    "    n_portion = int(input('How many parcels? '))\n",
    "    if n_portion < 3:\n",
    "        while n_portion < 3:\n",
    "            print('This value is invalid. Try again.')\n",
    "            n_portion = int(input('How many parcels? '))\n",
    "    value_to_pay = (value + (value * 20/100)) / n_portion\n",
    "    print('Each parcel has a value of: R${}'.format(value_to_pay))\n",
    "else:\n",
    "    print('Invalid.')"
   ],
   "metadata": {
    "collapsed": false,
    "pycharm": {
     "name": "#%%\n"
    }
   }
  },
  {
   "cell_type": "markdown",
   "source": [
    "### 45. Rock Paper Scissors"
   ],
   "metadata": {
    "collapsed": false,
    "pycharm": {
     "name": "#%% md\n"
    }
   }
  },
  {
   "cell_type": "code",
   "source": [
    "# This one will stay in portuguese...\n",
    "\n",
    "from time import sleep\n",
    "from random import choice\n",
    "\n",
    "resp = 's'\n",
    "while resp.upper() == 'S':\n",
    "    print('SUAS OPÇÕES:')\n",
    "    print('[0] PEDRA')\n",
    "    print('[1] PAPEL')\n",
    "    print('[2] TESOURA')\n",
    "    user_choice = int(input('Qual é a sua jogada? '))\n",
    "    options = ['Pedra', 'Papel', 'Tesoura']\n",
    "    if user_choice == 0:\n",
    "        user_choice = options[0]\n",
    "    elif user_choice == 1:\n",
    "        user_choice = options[1]\n",
    "    elif user_choice == 2:\n",
    "        user_choice = options[2]\n",
    "    else:\n",
    "        while user_choice != 0 and user_choice != 1 and user_choice != 2:\n",
    "            user_choice = int(input('Opção inválida. Qual é a sua jogada? '))\n",
    "    cpu_choice = choice(options)\n",
    "    sleep(0.25)\n",
    "    print('JO')\n",
    "    sleep(0.5)\n",
    "    print('KEN')\n",
    "    sleep(0.5)\n",
    "    print('PO !!!')\n",
    "    if cpu_choice == user_choice:\n",
    "        print('Temos um empate! Nós escolhemos {}.'.format(cpu_choice))\n",
    "    else:\n",
    "        if cpu_choice == 'Pedra':\n",
    "            if user_choice == 'Tesoura':\n",
    "                print('Hahaha, jogou {} foi? Tome uma {}!'.format(user_choice, cpu_choice))\n",
    "            else:\n",
    "                print('Ih rapaz, {} ganha da minha {}.'.format(user_choice, cpu_choice))\n",
    "        elif cpu_choice == 'Tesoura':\n",
    "            if user_choice == 'Pedra':\n",
    "                print('Tomei no boga. Sua {} arregaça minha {}.'.format(user_choice, cpu_choice))\n",
    "            else:\n",
    "                print('kkkkkkkk, vai ser cortado pela minha {} paizin.'.format(cpu_choice))\n",
    "        else:\n",
    "            if user_choice == 'Pedra':\n",
    "                print('Toma essa embrulhada. Meu {} ganha da sua {}!'.format(cpu_choice, user_choice))\n",
    "            else:\n",
    "                print('Me fatiou hen mané. Meu {} não foi'\n",
    "                      ' páreo para sua {}.'.format(cpu_choice, user_choice))\n",
    "    resp = input('Deseja jogar novamente? (S/N) ')\n",
    "    if resp.upper() == 'S':\n",
    "        continue\n",
    "    else:\n",
    "        exit()"
   ],
   "metadata": {
    "collapsed": false,
    "pycharm": {
     "name": "#%%\n"
    }
   },
   "execution_count": null,
   "outputs": []
  }
 ],
 "metadata": {
  "kernelspec": {
   "display_name": "Python 3",
   "language": "python",
   "name": "python3"
  },
  "language_info": {
   "codemirror_mode": {
    "name": "ipython",
    "version": 2
   },
   "file_extension": ".py",
   "mimetype": "text/x-python",
   "name": "python",
   "nbconvert_exporter": "python",
   "pygments_lexer": "ipython2",
   "version": "2.7.6"
  }
 },
 "nbformat": 4,
 "nbformat_minor": 0
}